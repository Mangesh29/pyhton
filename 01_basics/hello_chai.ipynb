{
 "cells": [
  {
   "cell_type": "code",
   "execution_count": 1,
   "id": "5fa07812",
   "metadata": {},
   "outputs": [
    {
     "name": "stdout",
     "output_type": "stream",
     "text": [
      "Chai aur pyhton\n"
     ]
    }
   ],
   "source": [
    "print(\"Chai aur pyhton\")"
   ]
  },
  {
   "cell_type": "code",
   "execution_count": null,
   "id": "8c625e1b",
   "metadata": {},
   "outputs": [
    {
     "name": "stdout",
     "output_type": "stream",
     "text": [
      "4\n",
      "lemon tea\n"
     ]
    }
   ],
   "source": [
    "def chai(n):      ##function \n",
    "    print(n)\n",
    "\n",
    "chai(4)    \n",
    "\n",
    "chai(\"lemon tea\")\n",
    "    "
   ]
  },
  {
   "cell_type": "code",
   "execution_count": 14,
   "id": "e872b622",
   "metadata": {},
   "outputs": [
    {
     "data": {
      "text/plain": [
       "'d:\\\\codewithpython\\\\01_basics'"
      ]
     },
     "execution_count": 14,
     "metadata": {},
     "output_type": "execute_result"
    }
   ],
   "source": [
    "import os\n",
    "os.getcwd()\n",
    " "
   ]
  },
  {
   "cell_type": "code",
   "execution_count": 15,
   "id": "febb3090",
   "metadata": {},
   "outputs": [
    {
     "name": "stdout",
     "output_type": "stream",
     "text": [
      "c\n",
      "h\n",
      "a\n",
      "i\n"
     ]
    }
   ],
   "source": [
    "for c in \"chai\":\n",
    "    print(c)"
   ]
  },
  {
   "cell_type": "code",
   "execution_count": 16,
   "id": "5441d7a3",
   "metadata": {},
   "outputs": [
    {
     "data": {
      "text/plain": [
       "'win32'"
      ]
     },
     "execution_count": 16,
     "metadata": {},
     "output_type": "execute_result"
    }
   ],
   "source": [
    "import sys\n",
    "sys.platform"
   ]
  },
  {
   "cell_type": "code",
   "execution_count": null,
   "id": "c1fd384e",
   "metadata": {},
   "outputs": [],
   "source": []
  },
  {
   "cell_type": "code",
   "execution_count": null,
   "id": "13974f8f",
   "metadata": {},
   "outputs": [],
   "source": [
    "username=\"mangesh\" # vriable"
   ]
  },
  {
   "cell_type": "code",
   "execution_count": 2,
   "id": "c3359e40",
   "metadata": {},
   "outputs": [
    {
     "data": {
      "text/plain": [
       "'mangesh'"
      ]
     },
     "execution_count": 2,
     "metadata": {},
     "output_type": "execute_result"
    }
   ],
   "source": [
    "username"
   ]
  },
  {
   "cell_type": "code",
   "execution_count": 3,
   "id": "141f52b0",
   "metadata": {},
   "outputs": [],
   "source": [
    "username=\"chaiaurcode\""
   ]
  },
  {
   "cell_type": "code",
   "execution_count": 4,
   "id": "5d02e575",
   "metadata": {},
   "outputs": [
    {
     "data": {
      "text/plain": [
       "'chaiaurcode'"
      ]
     },
     "execution_count": 4,
     "metadata": {},
     "output_type": "execute_result"
    }
   ],
   "source": [
    "username"
   ]
  },
  {
   "cell_type": "code",
   "execution_count": 9,
   "id": "36076572",
   "metadata": {},
   "outputs": [
    {
     "data": {
      "text/plain": [
       "10"
      ]
     },
     "execution_count": 9,
     "metadata": {},
     "output_type": "execute_result"
    }
   ],
   "source": [
    "x=10\n",
    "y=x\n",
    "y\n",
    "x=15\n",
    "x\n",
    "y\n"
   ]
  },
  {
   "cell_type": "markdown",
   "id": "6d8eff06",
   "metadata": {},
   "source": [
    " Data Types/ Object types"
   ]
  },
  {
   "cell_type": "code",
   "execution_count": 17,
   "id": "e86beae9",
   "metadata": {},
   "outputs": [],
   "source": [
    "\n",
    "# number =1234, 3.1415,3+4j,0b111, decimal(),\n",
    "#string: 'spam',\"Bob's\", b'a\\x01c', u'sp\\xc4m'\n",
    "# list= [1,[2,'three'],4.5],list(rang(10))\n",
    "# Tuple : (1, 'spam' ,4,'u'), tuple('spam'),namedtuple\n",
    "# Dictionay : {'food' : 'spam', 'taste':'yum'},dict (hours=10)\n",
    "#set : set('abc'), {'a','b','c'}\n",
    "#File : open ('eggs.txt'), open(r'C:\\hum.bin','wb')\n",
    "#Boolean :True ,False\n",
    "#None : N\n",
    "# Function, Module, Classes\n",
    "\n",
    "#### Advance: Decorators ,Generators ,Iterators, Metaprograming\n"
   ]
  },
  {
   "cell_type": "code",
   "execution_count": 18,
   "id": "c0dec7f2",
   "metadata": {},
   "outputs": [
    {
     "data": {
      "text/plain": [
       "24"
      ]
     },
     "execution_count": 18,
     "metadata": {},
     "output_type": "execute_result"
    }
   ],
   "source": [
    "12+12"
   ]
  },
  {
   "cell_type": "code",
   "execution_count": 23,
   "id": "a58da54d",
   "metadata": {},
   "outputs": [
    {
     "data": {
      "text/plain": [
       "0.2654677385557762"
      ]
     },
     "execution_count": 23,
     "metadata": {},
     "output_type": "execute_result"
    }
   ],
   "source": [
    "import random\n",
    "random.random()"
   ]
  },
  {
   "cell_type": "code",
   "execution_count": 24,
   "id": "1a78ad3b",
   "metadata": {},
   "outputs": [
    {
     "data": {
      "text/plain": [
       "1"
      ]
     },
     "execution_count": 24,
     "metadata": {},
     "output_type": "execute_result"
    }
   ],
   "source": [
    "random.choice([1,2,3,4,5])"
   ]
  },
  {
   "cell_type": "code",
   "execution_count": 25,
   "id": "e9acaf1d",
   "metadata": {},
   "outputs": [
    {
     "data": {
      "text/plain": [
       "11"
      ]
     },
     "execution_count": 25,
     "metadata": {},
     "output_type": "execute_result"
    }
   ],
   "source": [
    "username = \"chaiaurcode\"\n",
    "len(username)"
   ]
  },
  {
   "cell_type": "code",
   "execution_count": 26,
   "id": "642e9803",
   "metadata": {},
   "outputs": [
    {
     "data": {
      "text/plain": [
       "'c'"
      ]
     },
     "execution_count": 26,
     "metadata": {},
     "output_type": "execute_result"
    }
   ],
   "source": [
    "username[0]\n",
    " "
   ]
  },
  {
   "cell_type": "code",
   "execution_count": 27,
   "id": "82119641",
   "metadata": {},
   "outputs": [
    {
     "data": {
      "text/plain": [
       "'e'"
      ]
     },
     "execution_count": 27,
     "metadata": {},
     "output_type": "execute_result"
    }
   ],
   "source": [
    "username[-1]"
   ]
  },
  {
   "cell_type": "code",
   "execution_count": 28,
   "id": "44f38d60",
   "metadata": {},
   "outputs": [
    {
     "data": {
      "text/plain": [
       "'d'"
      ]
     },
     "execution_count": 28,
     "metadata": {},
     "output_type": "execute_result"
    }
   ],
   "source": [
    "username[-2]"
   ]
  },
  {
   "cell_type": "code",
   "execution_count": 29,
   "id": "94a6da83",
   "metadata": {},
   "outputs": [
    {
     "data": {
      "text/plain": [
       "'ha'"
      ]
     },
     "execution_count": 29,
     "metadata": {},
     "output_type": "execute_result"
    }
   ],
   "source": [
    "username[1:3]"
   ]
  },
  {
   "cell_type": "code",
   "execution_count": 30,
   "id": "85c202c8",
   "metadata": {},
   "outputs": [
    {
     "data": {
      "text/plain": [
       "['__add__',\n",
       " '__class__',\n",
       " '__contains__',\n",
       " '__delattr__',\n",
       " '__dir__',\n",
       " '__doc__',\n",
       " '__eq__',\n",
       " '__format__',\n",
       " '__ge__',\n",
       " '__getattribute__',\n",
       " '__getitem__',\n",
       " '__getnewargs__',\n",
       " '__getstate__',\n",
       " '__gt__',\n",
       " '__hash__',\n",
       " '__init__',\n",
       " '__init_subclass__',\n",
       " '__iter__',\n",
       " '__le__',\n",
       " '__len__',\n",
       " '__lt__',\n",
       " '__mod__',\n",
       " '__mul__',\n",
       " '__ne__',\n",
       " '__new__',\n",
       " '__reduce__',\n",
       " '__reduce_ex__',\n",
       " '__repr__',\n",
       " '__rmod__',\n",
       " '__rmul__',\n",
       " '__setattr__',\n",
       " '__sizeof__',\n",
       " '__str__',\n",
       " '__subclasshook__',\n",
       " 'capitalize',\n",
       " 'casefold',\n",
       " 'center',\n",
       " 'count',\n",
       " 'encode',\n",
       " 'endswith',\n",
       " 'expandtabs',\n",
       " 'find',\n",
       " 'format',\n",
       " 'format_map',\n",
       " 'index',\n",
       " 'isalnum',\n",
       " 'isalpha',\n",
       " 'isascii',\n",
       " 'isdecimal',\n",
       " 'isdigit',\n",
       " 'isidentifier',\n",
       " 'islower',\n",
       " 'isnumeric',\n",
       " 'isprintable',\n",
       " 'isspace',\n",
       " 'istitle',\n",
       " 'isupper',\n",
       " 'join',\n",
       " 'ljust',\n",
       " 'lower',\n",
       " 'lstrip',\n",
       " 'maketrans',\n",
       " 'partition',\n",
       " 'removeprefix',\n",
       " 'removesuffix',\n",
       " 'replace',\n",
       " 'rfind',\n",
       " 'rindex',\n",
       " 'rjust',\n",
       " 'rpartition',\n",
       " 'rsplit',\n",
       " 'rstrip',\n",
       " 'split',\n",
       " 'splitlines',\n",
       " 'startswith',\n",
       " 'strip',\n",
       " 'swapcase',\n",
       " 'title',\n",
       " 'translate',\n",
       " 'upper',\n",
       " 'zfill']"
      ]
     },
     "execution_count": 30,
     "metadata": {},
     "output_type": "execute_result"
    }
   ],
   "source": [
    "dir(username)"
   ]
  },
  {
   "cell_type": "code",
   "execution_count": 31,
   "id": "cf77ce79",
   "metadata": {},
   "outputs": [
    {
     "data": {
      "text/plain": [
       "[123, 'chai', 3.14]"
      ]
     },
     "execution_count": 31,
     "metadata": {},
     "output_type": "execute_result"
    }
   ],
   "source": [
    "mylist = [123 , \"chai\", 3.14]\n",
    "mylist"
   ]
  },
  {
   "cell_type": "code",
   "execution_count": 32,
   "id": "6b2c8206",
   "metadata": {},
   "outputs": [
    {
     "data": {
      "text/plain": [
       "3"
      ]
     },
     "execution_count": 32,
     "metadata": {},
     "output_type": "execute_result"
    }
   ],
   "source": [
    "len(mylist)"
   ]
  },
  {
   "cell_type": "code",
   "execution_count": 33,
   "id": "4ad24a6b",
   "metadata": {},
   "outputs": [
    {
     "data": {
      "text/plain": [
       "['chai', 3.14]"
      ]
     },
     "execution_count": 33,
     "metadata": {},
     "output_type": "execute_result"
    }
   ],
   "source": [
    "mylist[1:3]"
   ]
  },
  {
   "cell_type": "code",
   "execution_count": 34,
   "id": "5984a995",
   "metadata": {},
   "outputs": [
    {
     "data": {
      "text/plain": [
       "{'one': 'lemon', 'two': 'ginger', 'comic': 'naaraj'}"
      ]
     },
     "execution_count": 34,
     "metadata": {},
     "output_type": "execute_result"
    }
   ],
   "source": [
    "myD = {'one':'lemon', 'two':'ginger','comic':'naaraj'}\n",
    "myD"
   ]
  },
  {
   "cell_type": "code",
   "execution_count": 36,
   "id": "bc9e69c1",
   "metadata": {},
   "outputs": [
    {
     "data": {
      "text/plain": [
       "'naaraj'"
      ]
     },
     "execution_count": 36,
     "metadata": {},
     "output_type": "execute_result"
    }
   ],
   "source": [
    "myD['comic']"
   ]
  },
  {
   "cell_type": "code",
   "execution_count": 37,
   "id": "0af56c0f",
   "metadata": {},
   "outputs": [
    {
     "data": {
      "text/plain": [
       "(1, 2, 3)"
      ]
     },
     "execution_count": 37,
     "metadata": {},
     "output_type": "execute_result"
    }
   ],
   "source": [
    "myTup = (1,2,3)\n",
    "myTup"
   ]
  },
  {
   "cell_type": "code",
   "execution_count": 38,
   "id": "e7868686",
   "metadata": {},
   "outputs": [
    {
     "data": {
      "text/plain": [
       "1"
      ]
     },
     "execution_count": 38,
     "metadata": {},
     "output_type": "execute_result"
    }
   ],
   "source": [
    "myTup[0]"
   ]
  },
  {
   "cell_type": "code",
   "execution_count": 39,
   "id": "a4256ffc",
   "metadata": {},
   "outputs": [
    {
     "data": {
      "text/plain": [
       "(2, 3)"
      ]
     },
     "execution_count": 39,
     "metadata": {},
     "output_type": "execute_result"
    }
   ],
   "source": [
    "myTup[1:3]"
   ]
  },
  {
   "cell_type": "code",
   "execution_count": 40,
   "id": "f4d0bf15",
   "metadata": {},
   "outputs": [
    {
     "data": {
      "text/plain": [
       "3"
      ]
     },
     "execution_count": 40,
     "metadata": {},
     "output_type": "execute_result"
    }
   ],
   "source": [
    "len(myTup)"
   ]
  },
  {
   "cell_type": "code",
   "execution_count": null,
   "id": "b18e7e3e",
   "metadata": {},
   "outputs": [
    {
     "ename": "SyntaxError",
     "evalue": "invalid syntax (2442353203.py, line 1)",
     "output_type": "error",
     "traceback": [
      "\u001b[1;36m  Cell \u001b[1;32mIn[43], line 1\u001b[1;36m\u001b[0m\n\u001b[1;33m    git init\u001b[0m\n\u001b[1;37m        ^\u001b[0m\n\u001b[1;31mSyntaxError\u001b[0m\u001b[1;31m:\u001b[0m invalid syntax\n"
     ]
    }
   ],
   "source": []
  },
  {
   "cell_type": "code",
   "execution_count": null,
   "id": "938f0e37",
   "metadata": {},
   "outputs": [],
   "source": []
  }
 ],
 "metadata": {
  "kernelspec": {
   "display_name": "Python 3",
   "language": "python",
   "name": "python3"
  },
  "language_info": {
   "codemirror_mode": {
    "name": "ipython",
    "version": 3
   },
   "file_extension": ".py",
   "mimetype": "text/x-python",
   "name": "python",
   "nbconvert_exporter": "python",
   "pygments_lexer": "ipython3",
   "version": "3.11.9"
  }
 },
 "nbformat": 4,
 "nbformat_minor": 5
}
