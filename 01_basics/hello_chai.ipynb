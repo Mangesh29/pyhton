{
 "cells": [
  {
   "cell_type": "code",
   "execution_count": 101,
   "id": "5fa07812",
   "metadata": {},
   "outputs": [
    {
     "name": "stdout",
     "output_type": "stream",
     "text": [
      "Chai aur pyhton\n"
     ]
    }
   ],
   "source": [
    "print(\"Chai aur pyhton\")"
   ]
  },
  {
   "cell_type": "code",
   "execution_count": 102,
   "id": "8c625e1b",
   "metadata": {},
   "outputs": [
    {
     "name": "stdout",
     "output_type": "stream",
     "text": [
      "4\n",
      "lemon tea\n"
     ]
    }
   ],
   "source": [
    "def chai(n):      ##function \n",
    "    print(n)\n",
    "\n",
    "chai(4)    \n",
    "\n",
    "chai(\"lemon tea\")\n",
    "    "
   ]
  },
  {
   "cell_type": "code",
   "execution_count": 103,
   "id": "e872b622",
   "metadata": {},
   "outputs": [
    {
     "data": {
      "text/plain": [
       "'d:\\\\codewithpython\\\\01_basics'"
      ]
     },
     "execution_count": 103,
     "metadata": {},
     "output_type": "execute_result"
    }
   ],
   "source": [
    "import os\n",
    "os.getcwd()\n",
    " "
   ]
  },
  {
   "cell_type": "code",
   "execution_count": 104,
   "id": "febb3090",
   "metadata": {},
   "outputs": [
    {
     "name": "stdout",
     "output_type": "stream",
     "text": [
      "c\n",
      "h\n",
      "a\n",
      "i\n"
     ]
    }
   ],
   "source": [
    "for c in \"chai\":\n",
    "    print(c)"
   ]
  },
  {
   "cell_type": "code",
   "execution_count": 105,
   "id": "5441d7a3",
   "metadata": {},
   "outputs": [
    {
     "data": {
      "text/plain": [
       "'win32'"
      ]
     },
     "execution_count": 105,
     "metadata": {},
     "output_type": "execute_result"
    }
   ],
   "source": [
    "import sys\n",
    "sys.platform"
   ]
  },
  {
   "cell_type": "code",
   "execution_count": null,
   "id": "c1fd384e",
   "metadata": {},
   "outputs": [],
   "source": []
  },
  {
   "cell_type": "code",
   "execution_count": 106,
   "id": "13974f8f",
   "metadata": {},
   "outputs": [],
   "source": [
    "username=\"mangesh\" # vriable"
   ]
  },
  {
   "cell_type": "code",
   "execution_count": 107,
   "id": "c3359e40",
   "metadata": {},
   "outputs": [
    {
     "data": {
      "text/plain": [
       "'mangesh'"
      ]
     },
     "execution_count": 107,
     "metadata": {},
     "output_type": "execute_result"
    }
   ],
   "source": [
    "username"
   ]
  },
  {
   "cell_type": "code",
   "execution_count": 108,
   "id": "141f52b0",
   "metadata": {},
   "outputs": [],
   "source": [
    "username=\"chaiaurcode\""
   ]
  },
  {
   "cell_type": "code",
   "execution_count": 109,
   "id": "5d02e575",
   "metadata": {},
   "outputs": [
    {
     "data": {
      "text/plain": [
       "'chaiaurcode'"
      ]
     },
     "execution_count": 109,
     "metadata": {},
     "output_type": "execute_result"
    }
   ],
   "source": [
    "username"
   ]
  },
  {
   "cell_type": "code",
   "execution_count": 110,
   "id": "36076572",
   "metadata": {},
   "outputs": [
    {
     "data": {
      "text/plain": [
       "10"
      ]
     },
     "execution_count": 110,
     "metadata": {},
     "output_type": "execute_result"
    }
   ],
   "source": [
    "x=10\n",
    "y=x\n",
    "y\n",
    "x=15\n",
    "x\n",
    "y\n"
   ]
  },
  {
   "cell_type": "markdown",
   "id": "6d8eff06",
   "metadata": {},
   "source": [
    " Data Types/ Object types"
   ]
  },
  {
   "cell_type": "code",
   "execution_count": 111,
   "id": "e86beae9",
   "metadata": {},
   "outputs": [],
   "source": [
    "\n",
    "# number =1234, 3.1415,3+4j,0b111, decimal(),\n",
    "#string: 'spam',\"Bob's\", b'a\\x01c', u'sp\\xc4m'\n",
    "# list= [1,[2,'three'],4.5],list(rang(10))\n",
    "# Tuple : (1, 'spam' ,4,'u'), tuple('spam'),namedtuple\n",
    "# Dictionay : {'food' : 'spam', 'taste':'yum'},dict (hours=10)\n",
    "#set : set('abc'), {'a','b','c'}\n",
    "#File : open ('eggs.txt'), open(r'C:\\hum.bin','wb')\n",
    "#Boolean :True ,False\n",
    "#None : N\n",
    "# Function, Module, Classes\n",
    "\n",
    "#### Advance: Decorators ,Generators ,Iterators, Metaprograming\n"
   ]
  },
  {
   "cell_type": "code",
   "execution_count": 112,
   "id": "c0dec7f2",
   "metadata": {},
   "outputs": [
    {
     "data": {
      "text/plain": [
       "24"
      ]
     },
     "execution_count": 112,
     "metadata": {},
     "output_type": "execute_result"
    }
   ],
   "source": [
    "12+12"
   ]
  },
  {
   "cell_type": "code",
   "execution_count": 113,
   "id": "a58da54d",
   "metadata": {},
   "outputs": [
    {
     "data": {
      "text/plain": [
       "0.9407513491918889"
      ]
     },
     "execution_count": 113,
     "metadata": {},
     "output_type": "execute_result"
    }
   ],
   "source": [
    "import random\n",
    "random.random()"
   ]
  },
  {
   "cell_type": "code",
   "execution_count": 114,
   "id": "1a78ad3b",
   "metadata": {},
   "outputs": [
    {
     "data": {
      "text/plain": [
       "3"
      ]
     },
     "execution_count": 114,
     "metadata": {},
     "output_type": "execute_result"
    }
   ],
   "source": [
    "random.choice([1,2,3,4,5])"
   ]
  },
  {
   "cell_type": "code",
   "execution_count": 115,
   "id": "e9acaf1d",
   "metadata": {},
   "outputs": [
    {
     "data": {
      "text/plain": [
       "11"
      ]
     },
     "execution_count": 115,
     "metadata": {},
     "output_type": "execute_result"
    }
   ],
   "source": [
    "username = \"chaiaurcode\"\n",
    "len(username)"
   ]
  },
  {
   "cell_type": "code",
   "execution_count": 116,
   "id": "642e9803",
   "metadata": {},
   "outputs": [
    {
     "data": {
      "text/plain": [
       "'c'"
      ]
     },
     "execution_count": 116,
     "metadata": {},
     "output_type": "execute_result"
    }
   ],
   "source": [
    "username[0]\n",
    " "
   ]
  },
  {
   "cell_type": "code",
   "execution_count": 117,
   "id": "82119641",
   "metadata": {},
   "outputs": [
    {
     "data": {
      "text/plain": [
       "'e'"
      ]
     },
     "execution_count": 117,
     "metadata": {},
     "output_type": "execute_result"
    }
   ],
   "source": [
    "username[-1]"
   ]
  },
  {
   "cell_type": "code",
   "execution_count": 118,
   "id": "44f38d60",
   "metadata": {},
   "outputs": [
    {
     "data": {
      "text/plain": [
       "'d'"
      ]
     },
     "execution_count": 118,
     "metadata": {},
     "output_type": "execute_result"
    }
   ],
   "source": [
    "username[-2]"
   ]
  },
  {
   "cell_type": "code",
   "execution_count": 119,
   "id": "94a6da83",
   "metadata": {},
   "outputs": [
    {
     "data": {
      "text/plain": [
       "'ha'"
      ]
     },
     "execution_count": 119,
     "metadata": {},
     "output_type": "execute_result"
    }
   ],
   "source": [
    "username[1:3]"
   ]
  },
  {
   "cell_type": "code",
   "execution_count": 120,
   "id": "85c202c8",
   "metadata": {},
   "outputs": [
    {
     "data": {
      "text/plain": [
       "['__add__',\n",
       " '__class__',\n",
       " '__contains__',\n",
       " '__delattr__',\n",
       " '__dir__',\n",
       " '__doc__',\n",
       " '__eq__',\n",
       " '__format__',\n",
       " '__ge__',\n",
       " '__getattribute__',\n",
       " '__getitem__',\n",
       " '__getnewargs__',\n",
       " '__getstate__',\n",
       " '__gt__',\n",
       " '__hash__',\n",
       " '__init__',\n",
       " '__init_subclass__',\n",
       " '__iter__',\n",
       " '__le__',\n",
       " '__len__',\n",
       " '__lt__',\n",
       " '__mod__',\n",
       " '__mul__',\n",
       " '__ne__',\n",
       " '__new__',\n",
       " '__reduce__',\n",
       " '__reduce_ex__',\n",
       " '__repr__',\n",
       " '__rmod__',\n",
       " '__rmul__',\n",
       " '__setattr__',\n",
       " '__sizeof__',\n",
       " '__str__',\n",
       " '__subclasshook__',\n",
       " 'capitalize',\n",
       " 'casefold',\n",
       " 'center',\n",
       " 'count',\n",
       " 'encode',\n",
       " 'endswith',\n",
       " 'expandtabs',\n",
       " 'find',\n",
       " 'format',\n",
       " 'format_map',\n",
       " 'index',\n",
       " 'isalnum',\n",
       " 'isalpha',\n",
       " 'isascii',\n",
       " 'isdecimal',\n",
       " 'isdigit',\n",
       " 'isidentifier',\n",
       " 'islower',\n",
       " 'isnumeric',\n",
       " 'isprintable',\n",
       " 'isspace',\n",
       " 'istitle',\n",
       " 'isupper',\n",
       " 'join',\n",
       " 'ljust',\n",
       " 'lower',\n",
       " 'lstrip',\n",
       " 'maketrans',\n",
       " 'partition',\n",
       " 'removeprefix',\n",
       " 'removesuffix',\n",
       " 'replace',\n",
       " 'rfind',\n",
       " 'rindex',\n",
       " 'rjust',\n",
       " 'rpartition',\n",
       " 'rsplit',\n",
       " 'rstrip',\n",
       " 'split',\n",
       " 'splitlines',\n",
       " 'startswith',\n",
       " 'strip',\n",
       " 'swapcase',\n",
       " 'title',\n",
       " 'translate',\n",
       " 'upper',\n",
       " 'zfill']"
      ]
     },
     "execution_count": 120,
     "metadata": {},
     "output_type": "execute_result"
    }
   ],
   "source": [
    "dir(username)"
   ]
  },
  {
   "cell_type": "code",
   "execution_count": 121,
   "id": "cf77ce79",
   "metadata": {},
   "outputs": [
    {
     "data": {
      "text/plain": [
       "[123, 'chai', 3.14]"
      ]
     },
     "execution_count": 121,
     "metadata": {},
     "output_type": "execute_result"
    }
   ],
   "source": [
    "mylist = [123 , \"chai\", 3.14]\n",
    "mylist"
   ]
  },
  {
   "cell_type": "code",
   "execution_count": 122,
   "id": "6b2c8206",
   "metadata": {},
   "outputs": [
    {
     "data": {
      "text/plain": [
       "3"
      ]
     },
     "execution_count": 122,
     "metadata": {},
     "output_type": "execute_result"
    }
   ],
   "source": [
    "len(mylist)"
   ]
  },
  {
   "cell_type": "code",
   "execution_count": 123,
   "id": "4ad24a6b",
   "metadata": {},
   "outputs": [
    {
     "data": {
      "text/plain": [
       "['chai', 3.14]"
      ]
     },
     "execution_count": 123,
     "metadata": {},
     "output_type": "execute_result"
    }
   ],
   "source": [
    "mylist[1:3]"
   ]
  },
  {
   "cell_type": "code",
   "execution_count": 124,
   "id": "5984a995",
   "metadata": {},
   "outputs": [
    {
     "data": {
      "text/plain": [
       "{'one': 'lemon', 'two': 'ginger', 'comic': 'naaraj'}"
      ]
     },
     "execution_count": 124,
     "metadata": {},
     "output_type": "execute_result"
    }
   ],
   "source": [
    "myD = {'one':'lemon', 'two':'ginger','comic':'naaraj'}\n",
    "myD"
   ]
  },
  {
   "cell_type": "code",
   "execution_count": 125,
   "id": "bc9e69c1",
   "metadata": {},
   "outputs": [
    {
     "data": {
      "text/plain": [
       "'naaraj'"
      ]
     },
     "execution_count": 125,
     "metadata": {},
     "output_type": "execute_result"
    }
   ],
   "source": [
    "myD['comic']"
   ]
  },
  {
   "cell_type": "code",
   "execution_count": 126,
   "id": "0af56c0f",
   "metadata": {},
   "outputs": [
    {
     "data": {
      "text/plain": [
       "(1, 2, 3)"
      ]
     },
     "execution_count": 126,
     "metadata": {},
     "output_type": "execute_result"
    }
   ],
   "source": [
    "myTup = (1,2,3) # tuple\n",
    "myTup"
   ]
  },
  {
   "cell_type": "code",
   "execution_count": 127,
   "id": "e7868686",
   "metadata": {},
   "outputs": [
    {
     "data": {
      "text/plain": [
       "1"
      ]
     },
     "execution_count": 127,
     "metadata": {},
     "output_type": "execute_result"
    }
   ],
   "source": [
    "myTup[0]"
   ]
  },
  {
   "cell_type": "code",
   "execution_count": 128,
   "id": "a4256ffc",
   "metadata": {},
   "outputs": [
    {
     "data": {
      "text/plain": [
       "(2, 3)"
      ]
     },
     "execution_count": 128,
     "metadata": {},
     "output_type": "execute_result"
    }
   ],
   "source": [
    "myTup[1:3]"
   ]
  },
  {
   "cell_type": "code",
   "execution_count": 129,
   "id": "f4d0bf15",
   "metadata": {},
   "outputs": [
    {
     "data": {
      "text/plain": [
       "3"
      ]
     },
     "execution_count": 129,
     "metadata": {},
     "output_type": "execute_result"
    }
   ],
   "source": [
    "len(myTup)"
   ]
  },
  {
   "cell_type": "code",
   "execution_count": 130,
   "id": "b18e7e3e",
   "metadata": {},
   "outputs": [
    {
     "data": {
      "text/plain": [
       "3"
      ]
     },
     "execution_count": 130,
     "metadata": {},
     "output_type": "execute_result"
    }
   ],
   "source": [
    "import sys\n",
    "sys.getrefcount(24601)"
   ]
  },
  {
   "cell_type": "code",
   "execution_count": 131,
   "id": "938f0e37",
   "metadata": {},
   "outputs": [
    {
     "data": {
      "text/plain": [
       "5"
      ]
     },
     "execution_count": 131,
     "metadata": {},
     "output_type": "execute_result"
    }
   ],
   "source": [
    "sys.getrefcount('mangesh')"
   ]
  },
  {
   "cell_type": "code",
   "execution_count": 132,
   "id": "57ad81c5",
   "metadata": {},
   "outputs": [
    {
     "data": {
      "text/plain": [
       "7"
      ]
     },
     "execution_count": 132,
     "metadata": {},
     "output_type": "execute_result"
    }
   ],
   "source": [
    "a=10\n",
    "a='chaiaurcode'\n",
    "a=3.14\n",
    "a=5\n",
    "b=2\n",
    "a=a+2\n",
    "a"
   ]
  },
  {
   "cell_type": "code",
   "execution_count": 133,
   "id": "1462c748",
   "metadata": {},
   "outputs": [
    {
     "data": {
      "text/plain": [
       "[1, 2, 3]"
      ]
     },
     "execution_count": 133,
     "metadata": {},
     "output_type": "execute_result"
    }
   ],
   "source": [
    "mylistone=[1,2,3]   #list\n",
    "mylisttwo=mylistone\n",
    "mylistone"
   ]
  },
  {
   "cell_type": "code",
   "execution_count": 134,
   "id": "51723d20",
   "metadata": {},
   "outputs": [
    {
     "data": {
      "text/plain": [
       "[1, 2, 3]"
      ]
     },
     "execution_count": 134,
     "metadata": {},
     "output_type": "execute_result"
    }
   ],
   "source": [
    "mylistone='chai'\n",
    "mylisttwo\n",
    "mylistone=[1,2,3]\n",
    "mylistone"
   ]
  },
  {
   "cell_type": "code",
   "execution_count": 135,
   "id": "74308978",
   "metadata": {},
   "outputs": [
    {
     "data": {
      "text/plain": [
       "[33, 2, 3]"
      ]
     },
     "execution_count": 135,
     "metadata": {},
     "output_type": "execute_result"
    }
   ],
   "source": [
    "mylistone[0]=33\n",
    "mylistone"
   ]
  },
  {
   "cell_type": "code",
   "execution_count": 136,
   "id": "276b2a6f",
   "metadata": {},
   "outputs": [
    {
     "data": {
      "text/plain": [
       "[55, 2, 3]"
      ]
     },
     "execution_count": 136,
     "metadata": {},
     "output_type": "execute_result"
    }
   ],
   "source": [
    "h1=[1,2,3]\n",
    "h2=h1[:]\n",
    "h1\n",
    "h2\n",
    "h1[0]=55\n",
    "h1\n",
    "h2\n",
    "h1"
   ]
  },
  {
   "cell_type": "code",
   "execution_count": 137,
   "id": "b051e899",
   "metadata": {},
   "outputs": [
    {
     "data": {
      "text/plain": [
       "[55, 2, 3]"
      ]
     },
     "execution_count": 137,
     "metadata": {},
     "output_type": "execute_result"
    }
   ],
   "source": [
    "import copy\n",
    "h2=copy.copy(h1)\n",
    "h1\n",
    "h2"
   ]
  },
  {
   "cell_type": "code",
   "execution_count": 138,
   "id": "636c17de",
   "metadata": {},
   "outputs": [
    {
     "data": {
      "text/plain": [
       "[1, 2, 3]"
      ]
     },
     "execution_count": 138,
     "metadata": {},
     "output_type": "execute_result"
    }
   ],
   "source": [
    "m=[1,2,3]\n",
    "n=m\n",
    "n"
   ]
  },
  {
   "cell_type": "code",
   "execution_count": 139,
   "id": "22b73bd7",
   "metadata": {},
   "outputs": [
    {
     "data": {
      "text/plain": [
       "[1, 2, 3]"
      ]
     },
     "execution_count": 139,
     "metadata": {},
     "output_type": "execute_result"
    }
   ],
   "source": [
    "m"
   ]
  },
  {
   "cell_type": "code",
   "execution_count": 140,
   "id": "c01da05f",
   "metadata": {},
   "outputs": [
    {
     "data": {
      "text/plain": [
       "True"
      ]
     },
     "execution_count": 140,
     "metadata": {},
     "output_type": "execute_result"
    }
   ],
   "source": [
    "m==n"
   ]
  },
  {
   "cell_type": "code",
   "execution_count": 141,
   "id": "ff5fc9f5",
   "metadata": {},
   "outputs": [
    {
     "data": {
      "text/plain": [
       "True"
      ]
     },
     "execution_count": 141,
     "metadata": {},
     "output_type": "execute_result"
    }
   ],
   "source": [
    "m is n"
   ]
  },
  {
   "cell_type": "markdown",
   "id": "d484e8ed",
   "metadata": {},
   "source": [
    "NUMBERS\n"
   ]
  },
  {
   "cell_type": "markdown",
   "id": "ab7bd2cb",
   "metadata": {},
   "source": []
  },
  {
   "cell_type": "code",
   "execution_count": 142,
   "id": "6223fa23",
   "metadata": {},
   "outputs": [
    {
     "data": {
      "text/plain": [
       "5"
      ]
     },
     "execution_count": 142,
     "metadata": {},
     "output_type": "execute_result"
    }
   ],
   "source": [
    "x=2\n",
    "y=3\n",
    "z=4\n",
    "x+y"
   ]
  },
  {
   "cell_type": "code",
   "execution_count": 143,
   "id": "9e8a7305",
   "metadata": {},
   "outputs": [
    {
     "data": {
      "text/plain": [
       "20"
      ]
     },
     "execution_count": 143,
     "metadata": {},
     "output_type": "execute_result"
    }
   ],
   "source": [
    "(x+y)*z"
   ]
  },
  {
   "cell_type": "code",
   "execution_count": 144,
   "id": "75b9291b",
   "metadata": {},
   "outputs": [
    {
     "data": {
      "text/plain": [
       "(2, 3, 4)"
      ]
     },
     "execution_count": 144,
     "metadata": {},
     "output_type": "execute_result"
    }
   ],
   "source": [
    "x,y,z"
   ]
  },
  {
   "cell_type": "code",
   "execution_count": 145,
   "id": "16f476e0",
   "metadata": {},
   "outputs": [
    {
     "data": {
      "text/plain": [
       "(3, 6)"
      ]
     },
     "execution_count": 145,
     "metadata": {},
     "output_type": "execute_result"
    }
   ],
   "source": [
    "x+1 ,y*2\n"
   ]
  },
  {
   "cell_type": "code",
   "execution_count": 146,
   "id": "13ad0396",
   "metadata": {},
   "outputs": [
    {
     "data": {
      "text/plain": [
       "1"
      ]
     },
     "execution_count": 146,
     "metadata": {},
     "output_type": "execute_result"
    }
   ],
   "source": [
    "y%2"
   ]
  },
  {
   "cell_type": "code",
   "execution_count": 147,
   "id": "9d2c72f9",
   "metadata": {},
   "outputs": [
    {
     "data": {
      "text/plain": [
       "16"
      ]
     },
     "execution_count": 147,
     "metadata": {},
     "output_type": "execute_result"
    }
   ],
   "source": [
    "z**2\n"
   ]
  },
  {
   "cell_type": "code",
   "execution_count": 148,
   "id": "7217b343",
   "metadata": {},
   "outputs": [
    {
     "data": {
      "text/plain": [
       "1267650600228229401496703205376"
      ]
     },
     "execution_count": 148,
     "metadata": {},
     "output_type": "execute_result"
    }
   ],
   "source": [
    "2**100\n",
    "\n"
   ]
  },
  {
   "cell_type": "code",
   "execution_count": 149,
   "id": "3d3195e9",
   "metadata": {},
   "outputs": [
    {
     "data": {
      "text/plain": [
       "10715086071862673209484250490600018105614048117055336074437503883703510511249361224931983788156958581275946729175531468251871452856923140435984577574698574803934567774824230985421074605062371141877954182153046474983581941267398767559165543946077062914571196477686542167660429831652624386837205668069376"
      ]
     },
     "execution_count": 149,
     "metadata": {},
     "output_type": "execute_result"
    }
   ],
   "source": [
    "2**1000"
   ]
  },
  {
   "cell_type": "code",
   "execution_count": 150,
   "id": "1597181b",
   "metadata": {},
   "outputs": [
    {
     "data": {
      "text/plain": [
       "0.3333333333333333"
      ]
     },
     "execution_count": 150,
     "metadata": {},
     "output_type": "execute_result"
    }
   ],
   "source": [
    "result =1/3.0\n",
    "result"
   ]
  },
  {
   "cell_type": "code",
   "execution_count": 151,
   "id": "625e9aef",
   "metadata": {},
   "outputs": [
    {
     "data": {
      "text/plain": [
       "'chai'"
      ]
     },
     "execution_count": 151,
     "metadata": {},
     "output_type": "execute_result"
    }
   ],
   "source": [
    "str('chai')"
   ]
  },
  {
   "cell_type": "code",
   "execution_count": 152,
   "id": "f4365a59",
   "metadata": {},
   "outputs": [
    {
     "name": "stdout",
     "output_type": "stream",
     "text": [
      "chai\n"
     ]
    }
   ],
   "source": [
    "print('chai')"
   ]
  },
  {
   "cell_type": "code",
   "execution_count": 153,
   "id": "578e3135",
   "metadata": {},
   "outputs": [
    {
     "data": {
      "text/plain": [
       "True"
      ]
     },
     "execution_count": 153,
     "metadata": {},
     "output_type": "execute_result"
    }
   ],
   "source": [
    "1<2"
   ]
  },
  {
   "cell_type": "code",
   "execution_count": 154,
   "id": "11e7da94",
   "metadata": {},
   "outputs": [
    {
     "data": {
      "text/plain": [
       "True"
      ]
     },
     "execution_count": 154,
     "metadata": {},
     "output_type": "execute_result"
    }
   ],
   "source": [
    "5.00==5.0"
   ]
  },
  {
   "cell_type": "code",
   "execution_count": 155,
   "id": "2e5d26ec",
   "metadata": {},
   "outputs": [
    {
     "data": {
      "text/plain": [
       "True"
      ]
     },
     "execution_count": 155,
     "metadata": {},
     "output_type": "execute_result"
    }
   ],
   "source": [
    "4.0!=5.0"
   ]
  },
  {
   "cell_type": "code",
   "execution_count": 156,
   "id": "6bbddb79",
   "metadata": {},
   "outputs": [
    {
     "data": {
      "text/plain": [
       "'chai'"
      ]
     },
     "execution_count": 156,
     "metadata": {},
     "output_type": "execute_result"
    }
   ],
   "source": [
    "repr('chai')\n",
    "repr\n",
    "str('chai')\n"
   ]
  },
  {
   "cell_type": "code",
   "execution_count": 157,
   "id": "1eca731e",
   "metadata": {},
   "outputs": [
    {
     "data": {
      "text/plain": [
       "(2, 3, 4)"
      ]
     },
     "execution_count": 157,
     "metadata": {},
     "output_type": "execute_result"
    }
   ],
   "source": [
    "x,y,z "
   ]
  },
  {
   "cell_type": "code",
   "execution_count": 158,
   "id": "b5965bd9",
   "metadata": {},
   "outputs": [
    {
     "data": {
      "text/plain": [
       "True"
      ]
     },
     "execution_count": 158,
     "metadata": {},
     "output_type": "execute_result"
    }
   ],
   "source": [
    "x<y<z"
   ]
  },
  {
   "cell_type": "code",
   "execution_count": 159,
   "id": "fcf2d05b",
   "metadata": {},
   "outputs": [
    {
     "data": {
      "text/plain": [
       "True"
      ]
     },
     "execution_count": 159,
     "metadata": {},
     "output_type": "execute_result"
    }
   ],
   "source": [
    "x<y and y<z"
   ]
  },
  {
   "cell_type": "code",
   "execution_count": 160,
   "id": "6b8fb327",
   "metadata": {},
   "outputs": [
    {
     "data": {
      "text/plain": [
       "False"
      ]
     },
     "execution_count": 160,
     "metadata": {},
     "output_type": "execute_result"
    }
   ],
   "source": [
    "1 == 2<3"
   ]
  },
  {
   "cell_type": "code",
   "execution_count": 161,
   "id": "a0c1fea5",
   "metadata": {},
   "outputs": [
    {
     "data": {
      "text/plain": [
       "False"
      ]
     },
     "execution_count": 161,
     "metadata": {},
     "output_type": "execute_result"
    }
   ],
   "source": [
    "1==2 and 2<3"
   ]
  },
  {
   "cell_type": "code",
   "execution_count": 162,
   "id": "e7b0984e",
   "metadata": {},
   "outputs": [
    {
     "data": {
      "text/plain": [
       "3"
      ]
     },
     "execution_count": 162,
     "metadata": {},
     "output_type": "execute_result"
    }
   ],
   "source": [
    "import math\n",
    "math.floor(3.5)"
   ]
  },
  {
   "cell_type": "code",
   "execution_count": 163,
   "id": "1f40cccf",
   "metadata": {},
   "outputs": [
    {
     "data": {
      "text/plain": [
       "-4"
      ]
     },
     "execution_count": 163,
     "metadata": {},
     "output_type": "execute_result"
    }
   ],
   "source": [
    "math.floor(-3.5)"
   ]
  },
  {
   "cell_type": "code",
   "execution_count": 164,
   "id": "9cc9320f",
   "metadata": {},
   "outputs": [
    {
     "data": {
      "text/plain": [
       "-3"
      ]
     },
     "execution_count": 164,
     "metadata": {},
     "output_type": "execute_result"
    }
   ],
   "source": [
    "math.floor(-2.1)"
   ]
  },
  {
   "cell_type": "code",
   "execution_count": 165,
   "id": "ba1e3349",
   "metadata": {},
   "outputs": [
    {
     "data": {
      "text/plain": [
       "4"
      ]
     },
     "execution_count": 165,
     "metadata": {},
     "output_type": "execute_result"
    }
   ],
   "source": [
    "math.trunc(4.5)"
   ]
  },
  {
   "cell_type": "code",
   "execution_count": 166,
   "id": "b9fc53d1",
   "metadata": {},
   "outputs": [
    {
     "data": {
      "text/plain": [
       "-3"
      ]
     },
     "execution_count": 166,
     "metadata": {},
     "output_type": "execute_result"
    }
   ],
   "source": [
    "math.trunc(-3.6)"
   ]
  },
  {
   "cell_type": "code",
   "execution_count": 167,
   "id": "5a32368a",
   "metadata": {},
   "outputs": [
    {
     "data": {
      "text/plain": [
       "(2+3j)"
      ]
     },
     "execution_count": 167,
     "metadata": {},
     "output_type": "execute_result"
    }
   ],
   "source": [
    "2+1j*3"
   ]
  },
  {
   "cell_type": "code",
   "execution_count": 168,
   "id": "e33f77fe",
   "metadata": {},
   "outputs": [
    {
     "data": {
      "text/plain": [
       "(6+3j)"
      ]
     },
     "execution_count": 168,
     "metadata": {},
     "output_type": "execute_result"
    }
   ],
   "source": [
    "(2+1j)*3 #complax number"
   ]
  },
  {
   "cell_type": "code",
   "execution_count": 169,
   "id": "b68db5c5",
   "metadata": {},
   "outputs": [
    {
     "data": {
      "text/plain": [
       "16"
      ]
     },
     "execution_count": 169,
     "metadata": {},
     "output_type": "execute_result"
    }
   ],
   "source": [
    "0o20 #ocatal retural"
   ]
  },
  {
   "cell_type": "code",
   "execution_count": 171,
   "id": "7da960f6",
   "metadata": {},
   "outputs": [
    {
     "data": {
      "text/plain": [
       "255"
      ]
     },
     "execution_count": 171,
     "metadata": {},
     "output_type": "execute_result"
    }
   ],
   "source": [
    "0xFF"
   ]
  },
  {
   "cell_type": "code",
   "execution_count": 172,
   "id": "9e3c93a1",
   "metadata": {},
   "outputs": [
    {
     "data": {
      "text/plain": [
       "'0o100'"
      ]
     },
     "execution_count": 172,
     "metadata": {},
     "output_type": "execute_result"
    }
   ],
   "source": [
    "oct(64)"
   ]
  },
  {
   "cell_type": "code",
   "execution_count": 173,
   "id": "e7ee7fd4",
   "metadata": {},
   "outputs": [
    {
     "data": {
      "text/plain": [
       "'0x40'"
      ]
     },
     "execution_count": 173,
     "metadata": {},
     "output_type": "execute_result"
    }
   ],
   "source": [
    "hex(64)"
   ]
  },
  {
   "cell_type": "code",
   "execution_count": 174,
   "id": "4c370e22",
   "metadata": {},
   "outputs": [
    {
     "data": {
      "text/plain": [
       "'0b1000000'"
      ]
     },
     "execution_count": 174,
     "metadata": {},
     "output_type": "execute_result"
    }
   ],
   "source": [
    "bin(64)"
   ]
  },
  {
   "cell_type": "code",
   "execution_count": 175,
   "id": "f1d07e31",
   "metadata": {},
   "outputs": [
    {
     "data": {
      "text/plain": [
       "3"
      ]
     },
     "execution_count": 175,
     "metadata": {},
     "output_type": "execute_result"
    }
   ],
   "source": [
    "int(3.011)"
   ]
  },
  {
   "cell_type": "code",
   "execution_count": 176,
   "id": "d165fa7b",
   "metadata": {},
   "outputs": [
    {
     "data": {
      "text/plain": [
       "64"
      ]
     },
     "execution_count": 176,
     "metadata": {},
     "output_type": "execute_result"
    }
   ],
   "source": [
    "int(64)"
   ]
  },
  {
   "cell_type": "code",
   "execution_count": 178,
   "id": "b11e8d57",
   "metadata": {},
   "outputs": [
    {
     "data": {
      "text/plain": [
       "52"
      ]
     },
     "execution_count": 178,
     "metadata": {},
     "output_type": "execute_result"
    }
   ],
   "source": [
    "int('64',8)"
   ]
  },
  {
   "cell_type": "code",
   "execution_count": null,
   "id": "e5f98ea3",
   "metadata": {},
   "outputs": [
    {
     "data": {
      "text/plain": [
       "4"
      ]
     },
     "execution_count": 180,
     "metadata": {},
     "output_type": "execute_result"
    }
   ],
   "source": [
    "x = 1\n",
    "x<<2"
   ]
  },
  {
   "cell_type": "code",
   "execution_count": 181,
   "id": "3a6e44be",
   "metadata": {},
   "outputs": [
    {
     "data": {
      "text/plain": [
       "3"
      ]
     },
     "execution_count": 181,
     "metadata": {},
     "output_type": "execute_result"
    }
   ],
   "source": [
    "x|2"
   ]
  },
  {
   "cell_type": "code",
   "execution_count": 184,
   "id": "6591a08e",
   "metadata": {},
   "outputs": [
    {
     "data": {
      "text/plain": [
       "0.6394647245345979"
      ]
     },
     "execution_count": 184,
     "metadata": {},
     "output_type": "execute_result"
    }
   ],
   "source": [
    "import random\n",
    "random.random()"
   ]
  },
  {
   "cell_type": "code",
   "execution_count": 188,
   "id": "3a0da018",
   "metadata": {},
   "outputs": [
    {
     "data": {
      "text/plain": [
       "33"
      ]
     },
     "execution_count": 188,
     "metadata": {},
     "output_type": "execute_result"
    }
   ],
   "source": [
    "random.randint(1,100)"
   ]
  },
  {
   "cell_type": "code",
   "execution_count": 192,
   "id": "33b3294e",
   "metadata": {},
   "outputs": [
    {
     "data": {
      "text/plain": [
       "'masala'"
      ]
     },
     "execution_count": 192,
     "metadata": {},
     "output_type": "execute_result"
    }
   ],
   "source": [
    "l1 = ['lemon', 'ginger','masala','mint']\n",
    "random.choice(l1)"
   ]
  },
  {
   "cell_type": "code",
   "execution_count": 197,
   "id": "b08e4be9",
   "metadata": {},
   "outputs": [
    {
     "data": {
      "text/plain": [
       "['masala', 'lemon', 'ginger', 'mint']"
      ]
     },
     "execution_count": 197,
     "metadata": {},
     "output_type": "execute_result"
    }
   ],
   "source": [
    "random.shuffle(l1)\n",
    "l1"
   ]
  },
  {
   "cell_type": "code",
   "execution_count": 198,
   "id": "ed7022e2",
   "metadata": {},
   "outputs": [
    {
     "data": {
      "text/plain": [
       "0.30000000000000004"
      ]
     },
     "execution_count": 198,
     "metadata": {},
     "output_type": "execute_result"
    }
   ],
   "source": [
    "0.1+0.1+0.1"
   ]
  },
  {
   "cell_type": "code",
   "execution_count": 200,
   "id": "f54466f5",
   "metadata": {},
   "outputs": [
    {
     "data": {
      "text/plain": [
       "-0.09999999999999998"
      ]
     },
     "execution_count": 200,
     "metadata": {},
     "output_type": "execute_result"
    }
   ],
   "source": [
    "0.1+0.1-0.3"
   ]
  },
  {
   "cell_type": "code",
   "execution_count": null,
   "id": "79804d8f",
   "metadata": {},
   "outputs": [
    {
     "data": {
      "text/plain": [
       "Decimal('0.0')"
      ]
     },
     "execution_count": 203,
     "metadata": {},
     "output_type": "execute_result"
    }
   ],
   "source": [
    "from decimal import Decimal # decimal content math\n",
    "Decimal('0.1')+Decimal('0.1')+Decimal('0.1')-Decimal('0.3')"
   ]
  },
  {
   "cell_type": "code",
   "execution_count": 206,
   "id": "7788dd16",
   "metadata": {},
   "outputs": [
    {
     "data": {
      "text/plain": [
       "{1, 2}"
      ]
     },
     "execution_count": 206,
     "metadata": {},
     "output_type": "execute_result"
    }
   ],
   "source": [
    "setone ={1,2,3,4}\n",
    "setone & {1,2}"
   ]
  },
  {
   "cell_type": "code",
   "execution_count": 207,
   "id": "b0fa0145",
   "metadata": {},
   "outputs": [
    {
     "data": {
      "text/plain": [
       "dict"
      ]
     },
     "execution_count": 207,
     "metadata": {},
     "output_type": "execute_result"
    }
   ],
   "source": [
    "type({})"
   ]
  },
  {
   "cell_type": "code",
   "execution_count": 208,
   "id": "77e8c657",
   "metadata": {},
   "outputs": [
    {
     "data": {
      "text/plain": [
       "bool"
      ]
     },
     "execution_count": 208,
     "metadata": {},
     "output_type": "execute_result"
    }
   ],
   "source": [
    "type(True)"
   ]
  },
  {
   "cell_type": "code",
   "execution_count": 209,
   "id": "545f2edd",
   "metadata": {},
   "outputs": [
    {
     "data": {
      "text/plain": [
       "True"
      ]
     },
     "execution_count": 209,
     "metadata": {},
     "output_type": "execute_result"
    }
   ],
   "source": [
    "True==1"
   ]
  },
  {
   "cell_type": "code",
   "execution_count": 210,
   "id": "9b1ba2bf",
   "metadata": {},
   "outputs": [
    {
     "name": "stderr",
     "output_type": "stream",
     "text": [
      "<>:1: SyntaxWarning: \"is\" with a literal. Did you mean \"==\"?\n",
      "<>:1: SyntaxWarning: \"is\" with a literal. Did you mean \"==\"?\n",
      "C:\\Users\\Admin\\AppData\\Local\\Temp\\ipykernel_9244\\812578685.py:1: SyntaxWarning: \"is\" with a literal. Did you mean \"==\"?\n",
      "  True is 1\n"
     ]
    },
    {
     "data": {
      "text/plain": [
       "False"
      ]
     },
     "execution_count": 210,
     "metadata": {},
     "output_type": "execute_result"
    }
   ],
   "source": [
    "True is 1"
   ]
  },
  {
   "cell_type": "code",
   "execution_count": 211,
   "id": "8c807065",
   "metadata": {},
   "outputs": [
    {
     "data": {
      "text/plain": [
       "5"
      ]
     },
     "execution_count": 211,
     "metadata": {},
     "output_type": "execute_result"
    }
   ],
   "source": [
    "True+4"
   ]
  },
  {
   "cell_type": "markdown",
   "id": "f1d4875d",
   "metadata": {},
   "source": [
    "# String\n",
    "  \n",
    "  is immatable \n",
    "  its not a change in any \n"
   ]
  },
  {
   "cell_type": "code",
   "execution_count": 1,
   "id": "91370ed9",
   "metadata": {},
   "outputs": [
    {
     "data": {
      "text/plain": [
       "'0123456789'"
      ]
     },
     "execution_count": 1,
     "metadata": {},
     "output_type": "execute_result"
    }
   ],
   "source": [
    "num_list =\"0123456789\"\n",
    "num_list[:]"
   ]
  },
  {
   "cell_type": "code",
   "execution_count": 2,
   "id": "306b4e6e",
   "metadata": {},
   "outputs": [
    {
     "data": {
      "text/plain": [
       "'3456789'"
      ]
     },
     "execution_count": 2,
     "metadata": {},
     "output_type": "execute_result"
    }
   ],
   "source": [
    "num_list[3:]"
   ]
  },
  {
   "cell_type": "code",
   "execution_count": 3,
   "id": "eb60aa9a",
   "metadata": {},
   "outputs": [
    {
     "data": {
      "text/plain": [
       "'0123456'"
      ]
     },
     "execution_count": 3,
     "metadata": {},
     "output_type": "execute_result"
    }
   ],
   "source": [
    "num_list[:7]"
   ]
  },
  {
   "cell_type": "code",
   "execution_count": 4,
   "id": "f4d97a40",
   "metadata": {},
   "outputs": [
    {
     "data": {
      "text/plain": [
       "'0246'"
      ]
     },
     "execution_count": 4,
     "metadata": {},
     "output_type": "execute_result"
    }
   ],
   "source": [
    "num_list[0:7:2]"
   ]
  },
  {
   "cell_type": "code",
   "execution_count": 7,
   "id": "cb5f637a",
   "metadata": {},
   "outputs": [
    {
     "data": {
      "text/plain": [
       "'masala chai'"
      ]
     },
     "execution_count": 7,
     "metadata": {},
     "output_type": "execute_result"
    }
   ],
   "source": [
    "chai =\"masala chai\"\n",
    "chai"
   ]
  },
  {
   "cell_type": "code",
   "execution_count": 10,
   "id": "8b6328e6",
   "metadata": {},
   "outputs": [
    {
     "data": {
      "text/plain": [
       "'m'"
      ]
     },
     "execution_count": 10,
     "metadata": {},
     "output_type": "execute_result"
    }
   ],
   "source": [
    "frist_char=chai[0]\n",
    "frist_char"
   ]
  },
  {
   "cell_type": "code",
   "execution_count": 12,
   "id": "180879a2",
   "metadata": {},
   "outputs": [
    {
     "data": {
      "text/plain": [
       "'masala'"
      ]
     },
     "execution_count": 12,
     "metadata": {},
     "output_type": "execute_result"
    }
   ],
   "source": [
    "slice_chai =chai[0:6]\n",
    "slice_chai"
   ]
  },
  {
   "cell_type": "code",
   "execution_count": 13,
   "id": "d905849b",
   "metadata": {},
   "outputs": [
    {
     "data": {
      "text/plain": [
       "'masala chai'"
      ]
     },
     "execution_count": 13,
     "metadata": {},
     "output_type": "execute_result"
    }
   ],
   "source": [
    "chai"
   ]
  },
  {
   "cell_type": "code",
   "execution_count": 15,
   "id": "6b7d8e74",
   "metadata": {},
   "outputs": [
    {
     "data": {
      "text/plain": [
       "'masala chai'"
      ]
     },
     "execution_count": 15,
     "metadata": {},
     "output_type": "execute_result"
    }
   ],
   "source": [
    "chai.lower()"
   ]
  },
  {
   "cell_type": "code",
   "execution_count": 16,
   "id": "b76a2d7a",
   "metadata": {},
   "outputs": [
    {
     "data": {
      "text/plain": [
       "'MASALA CHAI'"
      ]
     },
     "execution_count": 16,
     "metadata": {},
     "output_type": "execute_result"
    }
   ],
   "source": [
    "chai.upper()"
   ]
  },
  {
   "cell_type": "code",
   "execution_count": 18,
   "id": "86fba44c",
   "metadata": {},
   "outputs": [
    {
     "data": {
      "text/plain": [
       "'masala chai'"
      ]
     },
     "execution_count": 18,
     "metadata": {},
     "output_type": "execute_result"
    }
   ],
   "source": [
    "chai.strip()"
   ]
  },
  {
   "cell_type": "code",
   "execution_count": null,
   "id": "16df9c10",
   "metadata": {},
   "outputs": [
    {
     "name": "stdout",
     "output_type": "stream",
     "text": [
      "Lemon Chai\n"
     ]
    }
   ],
   "source": [
    "chai =\"Lemon Chai\"\n"
   ]
  },
  {
   "cell_type": "code",
   "execution_count": 23,
   "id": "e4f330d9",
   "metadata": {},
   "outputs": [
    {
     "name": "stdout",
     "output_type": "stream",
     "text": [
      "gingger Chai\n"
     ]
    }
   ],
   "source": [
    "print(chai.replace(\"Lemon\",\"gingger\"))"
   ]
  },
  {
   "cell_type": "code",
   "execution_count": 32,
   "id": "372f0782",
   "metadata": {},
   "outputs": [
    {
     "name": "stdout",
     "output_type": "stream",
     "text": [
      "leamon chai, masala chai, gingger chai,maint chai\n"
     ]
    }
   ],
   "source": [
    "chai=\"leamon chai, masala chai, gingger chai,maint chai\"\n",
    "print(chai)"
   ]
  },
  {
   "cell_type": "code",
   "execution_count": 33,
   "id": "3aa19915",
   "metadata": {},
   "outputs": [
    {
     "name": "stdout",
     "output_type": "stream",
     "text": [
      "['leamon', 'chai,', 'masala', 'chai,', 'gingger', 'chai,maint', 'chai']\n"
     ]
    }
   ],
   "source": [
    "print(chai.split())"
   ]
  },
  {
   "cell_type": "code",
   "execution_count": 35,
   "id": "32434d1f",
   "metadata": {},
   "outputs": [
    {
     "name": "stdout",
     "output_type": "stream",
     "text": [
      "['leamon chai', ' masala chai', ' gingger chai', 'maint chai']\n"
     ]
    }
   ],
   "source": [
    "print(chai.split(\",\"  ))"
   ]
  },
  {
   "cell_type": "code",
   "execution_count": 36,
   "id": "ce0e0cdd",
   "metadata": {},
   "outputs": [
    {
     "name": "stdout",
     "output_type": "stream",
     "text": [
      "7\n"
     ]
    }
   ],
   "source": [
    "chai =\"Masala chai\"\n",
    "print(chai.find(\"chai\"))"
   ]
  },
  {
   "cell_type": "code",
   "execution_count": 39,
   "id": "f3afe85b",
   "metadata": {},
   "outputs": [
    {
     "name": "stdout",
     "output_type": "stream",
     "text": [
      "3\n"
     ]
    }
   ],
   "source": [
    "chai= \"Masala Chai Chai Chai\"\n",
    "print(chai.count(\"Chai\"))"
   ]
  },
  {
   "cell_type": "code",
   "execution_count": 42,
   "id": "d5b85e90",
   "metadata": {},
   "outputs": [
    {
     "data": {
      "text/plain": [
       "'I order {} cups of {}chai'"
      ]
     },
     "execution_count": 42,
     "metadata": {},
     "output_type": "execute_result"
    }
   ],
   "source": [
    "chai_type =\"Masala\"\n",
    "quantity =2\n",
    "order=\"I order {} cups of {}chai\"\n",
    "order"
   ]
  },
  {
   "cell_type": "code",
   "execution_count": 44,
   "id": "9fbb48a7",
   "metadata": {},
   "outputs": [
    {
     "name": "stdout",
     "output_type": "stream",
     "text": [
      "I order 2 cups of Masalachai\n"
     ]
    }
   ],
   "source": [
    "print(order.format(quantity, chai_type))"
   ]
  },
  {
   "cell_type": "code",
   "execution_count": 46,
   "id": "ce16d7d0",
   "metadata": {},
   "outputs": [
    {
     "name": "stdout",
     "output_type": "stream",
     "text": [
      "lemon Masala Ginger\n"
     ]
    }
   ],
   "source": [
    "chai_variety =[\"lemon\", \"Masala\",\"Ginger\"]\n",
    "print(\" \".join(chai_variety))"
   ]
  },
  {
   "cell_type": "code",
   "execution_count": 47,
   "id": "8032b260",
   "metadata": {},
   "outputs": [
    {
     "name": "stdout",
     "output_type": "stream",
     "text": [
      "21\n"
     ]
    }
   ],
   "source": [
    "print(len(chai))"
   ]
  },
  {
   "cell_type": "code",
   "execution_count": 49,
   "id": "1a906314",
   "metadata": {},
   "outputs": [
    {
     "name": "stdout",
     "output_type": "stream",
     "text": [
      "M\n",
      "a\n",
      "s\n",
      "a\n",
      "l\n",
      "a\n",
      " \n",
      "C\n",
      "h\n",
      "a\n",
      "i\n",
      " \n",
      "C\n",
      "h\n",
      "a\n",
      "i\n",
      " \n",
      "C\n",
      "h\n",
      "a\n",
      "i\n"
     ]
    }
   ],
   "source": [
    "for letter in chai:\n",
    "    print(letter)"
   ]
  },
  {
   "cell_type": "code",
   "execution_count": 54,
   "id": "681880bf",
   "metadata": {},
   "outputs": [
    {
     "name": "stdout",
     "output_type": "stream",
     "text": [
      "He said , \"Masala chai  is awesome\" \n"
     ]
    }
   ],
   "source": [
    "chai =\"He said , \\\"Masala chai  is awesome\\\" \"\n",
    "print(chai)"
   ]
  },
  {
   "cell_type": "code",
   "execution_count": 57,
   "id": "855159a2",
   "metadata": {},
   "outputs": [
    {
     "name": "stdout",
     "output_type": "stream",
     "text": [
      "masala\n",
      "Chai\n"
     ]
    }
   ],
   "source": [
    "chai=\"masala\\nChai\"\n",
    "print(chai)"
   ]
  },
  {
   "cell_type": "code",
   "execution_count": 58,
   "id": "f5aa5ba9",
   "metadata": {},
   "outputs": [
    {
     "name": "stdout",
     "output_type": "stream",
     "text": [
      "c:\\\\user\\\\pwd\n"
     ]
    }
   ],
   "source": [
    "chai=r\"c:\\\\user\\\\pwd\"\n",
    "print(chai)"
   ]
  },
  {
   "cell_type": "code",
   "execution_count": 65,
   "id": "aabfa97a",
   "metadata": {},
   "outputs": [],
   "source": [
    "chai = \"Masala is Chai\"\n"
   ]
  },
  {
   "cell_type": "code",
   "execution_count": 66,
   "id": "d11720e6",
   "metadata": {},
   "outputs": [
    {
     "name": "stdout",
     "output_type": "stream",
     "text": [
      "Masala is Chai\n"
     ]
    }
   ],
   "source": [
    "print(\"Masala is Chai\")"
   ]
  },
  {
   "cell_type": "code",
   "execution_count": 67,
   "id": "f6673906",
   "metadata": {},
   "outputs": [
    {
     "name": "stdout",
     "output_type": "stream",
     "text": [
      "Masaala is Chai\n"
     ]
    }
   ],
   "source": [
    "print(\"Masaala is Chai\")"
   ]
  },
  {
   "cell_type": "markdown",
   "id": "b0a50809",
   "metadata": {},
   "source": [
    "List    ####  list is mutable/ change for variable,number ,char , string  all sun change\n"
   ]
  },
  {
   "cell_type": "code",
   "execution_count": 1,
   "id": "dbc4fb96",
   "metadata": {},
   "outputs": [
    {
     "name": "stdout",
     "output_type": "stream",
     "text": [
      "['Black', 'Green', 'Oolong', 'White']\n"
     ]
    }
   ],
   "source": [
    "#list \n",
    "tea_varaites=[\"Black\",\"Green\",\"Oolong\",\"White\"]\n",
    "print(tea_varaites)"
   ]
  },
  {
   "cell_type": "code",
   "execution_count": 2,
   "id": "411dea6e",
   "metadata": {},
   "outputs": [
    {
     "name": "stdout",
     "output_type": "stream",
     "text": [
      "Green\n"
     ]
    }
   ],
   "source": [
    "print(tea_varaites[1])"
   ]
  },
  {
   "cell_type": "code",
   "execution_count": 3,
   "id": "8c61d04a",
   "metadata": {},
   "outputs": [
    {
     "name": "stdout",
     "output_type": "stream",
     "text": [
      "White\n"
     ]
    }
   ],
   "source": [
    "print(tea_varaites[-1])"
   ]
  },
  {
   "cell_type": "code",
   "execution_count": 5,
   "id": "4e8bca88",
   "metadata": {},
   "outputs": [
    {
     "name": "stdout",
     "output_type": "stream",
     "text": [
      "White\n"
     ]
    }
   ],
   "source": [
    "print(tea_varaites[3])"
   ]
  },
  {
   "cell_type": "code",
   "execution_count": null,
   "id": "b6e93bd6",
   "metadata": {},
   "outputs": [
    {
     "name": "stdout",
     "output_type": "stream",
     "text": [
      "['Black', 'Green']\n"
     ]
    }
   ],
   "source": [
    "print(tea_varaites[0:2])    #sciling "
   ]
  },
  {
   "cell_type": "code",
   "execution_count": 7,
   "id": "521a861c",
   "metadata": {},
   "outputs": [
    {
     "name": "stdout",
     "output_type": "stream",
     "text": [
      "['Green', 'Oolong']\n"
     ]
    }
   ],
   "source": [
    "print(tea_varaites[1:3])"
   ]
  },
  {
   "cell_type": "code",
   "execution_count": null,
   "id": "4547875c",
   "metadata": {},
   "outputs": [],
   "source": [
    "tea_varaites[3]=\"Herbal\"  # adding this list atom"
   ]
  },
  {
   "cell_type": "code",
   "execution_count": 9,
   "id": "374cfd9f",
   "metadata": {},
   "outputs": [
    {
     "name": "stdout",
     "output_type": "stream",
     "text": [
      "['Black', 'Green', 'Oolong', 'Herbal']\n"
     ]
    }
   ],
   "source": [
    "print(tea_varaites)"
   ]
  },
  {
   "cell_type": "code",
   "execution_count": 11,
   "id": "bcc8192c",
   "metadata": {},
   "outputs": [
    {
     "name": "stdout",
     "output_type": "stream",
     "text": [
      "Herbal\n"
     ]
    }
   ],
   "source": [
    "print(tea_varaites[3])"
   ]
  },
  {
   "cell_type": "code",
   "execution_count": null,
   "id": "3daa9a08",
   "metadata": {},
   "outputs": [
    {
     "data": {
      "text/plain": [
       "['Green']"
      ]
     },
     "execution_count": 12,
     "metadata": {},
     "output_type": "execute_result"
    }
   ],
   "source": [
    "tea_varaites[1:2]"
   ]
  },
  {
   "cell_type": "code",
   "execution_count": 14,
   "id": "461aa0d9",
   "metadata": {},
   "outputs": [
    {
     "data": {
      "text/plain": [
       "['Black', 'L', 'e', 'm', 'o', 'n', 'e', 'm', 'o', 'n', 'Oolong', 'Herbal']"
      ]
     },
     "execution_count": 14,
     "metadata": {},
     "output_type": "execute_result"
    }
   ],
   "source": [
    "tea_varaites[1:2]=\"Lemon\"\n",
    "tea_varaites"
   ]
  },
  {
   "cell_type": "code",
   "execution_count": 15,
   "id": "d63d0c21",
   "metadata": {},
   "outputs": [
    {
     "name": "stdout",
     "output_type": "stream",
     "text": [
      "['Black', 'Green', 'Oolong', 'White']\n"
     ]
    }
   ],
   "source": [
    "tea_varaites=[\"Black\",\"Green\",\"Oolong\",\"White\"]\n",
    "print(tea_varaites)"
   ]
  },
  {
   "cell_type": "code",
   "execution_count": 16,
   "id": "318e117f",
   "metadata": {},
   "outputs": [
    {
     "name": "stdout",
     "output_type": "stream",
     "text": [
      "['Black', 'lemon', 'Oolong', 'White']\n"
     ]
    }
   ],
   "source": [
    "tea_varaites[1:2]=[\"lemon\"]\n",
    "print(tea_varaites)"
   ]
  },
  {
   "cell_type": "code",
   "execution_count": 17,
   "id": "7b6fb63c",
   "metadata": {},
   "outputs": [
    {
     "data": {
      "text/plain": [
       "['lemon', 'Oolong']"
      ]
     },
     "execution_count": 17,
     "metadata": {},
     "output_type": "execute_result"
    }
   ],
   "source": [
    "tea_varaites[1:3]"
   ]
  },
  {
   "cell_type": "code",
   "execution_count": 19,
   "id": "2441e641",
   "metadata": {},
   "outputs": [
    {
     "name": "stdout",
     "output_type": "stream",
     "text": [
      "['Black', 'green', 'masala', 'White']\n"
     ]
    }
   ],
   "source": [
    "tea_varaites[1:3]=[\"green\",\"masala\"]\n",
    "print(tea_varaites)"
   ]
  },
  {
   "cell_type": "code",
   "execution_count": 20,
   "id": "2c177908",
   "metadata": {},
   "outputs": [
    {
     "data": {
      "text/plain": [
       "[]"
      ]
     },
     "execution_count": 20,
     "metadata": {},
     "output_type": "execute_result"
    }
   ],
   "source": [
    "tea_varaites[1:1]"
   ]
  },
  {
   "cell_type": "code",
   "execution_count": 25,
   "id": "f5dfff27",
   "metadata": {},
   "outputs": [
    {
     "data": {
      "text/plain": [
       "['Black',\n",
       " 'test',\n",
       " 'test',\n",
       " 'test',\n",
       " 'test',\n",
       " 'test',\n",
       " 'test',\n",
       " 'test',\n",
       " 'green',\n",
       " 'masala',\n",
       " 'White']"
      ]
     },
     "execution_count": 25,
     "metadata": {},
     "output_type": "execute_result"
    }
   ],
   "source": [
    "tea_varaites[1:1]=[\"test\"]\n",
    "tea_varaites"
   ]
  },
  {
   "cell_type": "code",
   "execution_count": 26,
   "id": "4444a07e",
   "metadata": {},
   "outputs": [
    {
     "data": {
      "text/plain": [
       "['test']"
      ]
     },
     "execution_count": 26,
     "metadata": {},
     "output_type": "execute_result"
    }
   ],
   "source": [
    "tea_varaites[1:2]"
   ]
  },
  {
   "cell_type": "code",
   "execution_count": 27,
   "id": "4c938066",
   "metadata": {},
   "outputs": [
    {
     "data": {
      "text/plain": [
       "['test', 'test']"
      ]
     },
     "execution_count": 27,
     "metadata": {},
     "output_type": "execute_result"
    }
   ],
   "source": [
    "tea_varaites[1:3]"
   ]
  },
  {
   "cell_type": "code",
   "execution_count": 28,
   "id": "80e02e05",
   "metadata": {},
   "outputs": [
    {
     "data": {
      "text/plain": [
       "['test', 'test', 'test']"
      ]
     },
     "execution_count": 28,
     "metadata": {},
     "output_type": "execute_result"
    }
   ],
   "source": [
    "tea_varaites[1:4]"
   ]
  },
  {
   "cell_type": "code",
   "execution_count": 29,
   "id": "cc350f72",
   "metadata": {},
   "outputs": [
    {
     "data": {
      "text/plain": [
       "['test', 'test', 'test', 'test']"
      ]
     },
     "execution_count": 29,
     "metadata": {},
     "output_type": "execute_result"
    }
   ],
   "source": [
    "tea_varaites[1:5]"
   ]
  },
  {
   "cell_type": "code",
   "execution_count": 30,
   "id": "8183d1cb",
   "metadata": {},
   "outputs": [
    {
     "data": {
      "text/plain": [
       "['test', 'test', 'test', 'test', 'test']"
      ]
     },
     "execution_count": 30,
     "metadata": {},
     "output_type": "execute_result"
    }
   ],
   "source": [
    "tea_varaites[1:6]"
   ]
  },
  {
   "cell_type": "code",
   "execution_count": 31,
   "id": "6851b9b1",
   "metadata": {},
   "outputs": [
    {
     "data": {
      "text/plain": [
       "['test', 'test', 'test', 'test', 'test', 'test']"
      ]
     },
     "execution_count": 31,
     "metadata": {},
     "output_type": "execute_result"
    }
   ],
   "source": [
    "tea_varaites[1:7]"
   ]
  },
  {
   "cell_type": "code",
   "execution_count": 32,
   "id": "5cbae125",
   "metadata": {},
   "outputs": [],
   "source": [
    "tea_varaites[1:7]=[]"
   ]
  },
  {
   "cell_type": "code",
   "execution_count": 36,
   "id": "c8470df6",
   "metadata": {},
   "outputs": [
    {
     "data": {
      "text/plain": [
       "['Black', 'test', 'green', 'masala', 'White']"
      ]
     },
     "execution_count": 36,
     "metadata": {},
     "output_type": "execute_result"
    }
   ],
   "source": [
    "tea_varaites\n"
   ]
  },
  {
   "cell_type": "markdown",
   "id": "ec7f0edd",
   "metadata": {},
   "source": [
    "Loop \"For loop ,\" \"While Loop\", \"Do while\""
   ]
  },
  {
   "cell_type": "code",
   "execution_count": 37,
   "id": "fbeeec6e",
   "metadata": {},
   "outputs": [
    {
     "name": "stdout",
     "output_type": "stream",
     "text": [
      "Black\n",
      "test\n",
      "green\n",
      "masala\n",
      "White\n"
     ]
    }
   ],
   "source": [
    "#for loop\n",
    "for tea in tea_varaites:\n",
    "    print(tea)"
   ]
  },
  {
   "cell_type": "code",
   "execution_count": 40,
   "id": "a65091dc",
   "metadata": {},
   "outputs": [
    {
     "name": "stdout",
     "output_type": "stream",
     "text": [
      "Black-test-green-masala-White-"
     ]
    }
   ],
   "source": [
    "for tea in tea_varaites:\n",
    "    print(tea, end=\"-\")"
   ]
  },
  {
   "cell_type": "code",
   "execution_count": 42,
   "id": "96ca5da0",
   "metadata": {},
   "outputs": [],
   "source": [
    "if \"Oolong \" in tea_varaites:\n",
    "    print(\"I Have Oolong tea\")\n"
   ]
  },
  {
   "cell_type": "code",
   "execution_count": null,
   "id": "99869915",
   "metadata": {},
   "outputs": [],
   "source": [
    "tea_varaites.append(\"Oolong\") # adding this value in list for append "
   ]
  },
  {
   "cell_type": "code",
   "execution_count": null,
   "id": "f8bf0ad4",
   "metadata": {},
   "outputs": [
    {
     "data": {
      "text/plain": [
       "['Black', 'green', 'masala', 'White', 'Oolong']"
      ]
     },
     "execution_count": 47,
     "metadata": {},
     "output_type": "execute_result"
    }
   ],
   "source": [
    "tea_varaites.remove[\"test\"]      # this list remove in world\n",
    "tea_varaites"
   ]
  },
  {
   "cell_type": "code",
   "execution_count": 48,
   "id": "157ff0e4",
   "metadata": {},
   "outputs": [
    {
     "name": "stdout",
     "output_type": "stream",
     "text": [
      "I have Oolong tea\n"
     ]
    }
   ],
   "source": [
    "if \"Oolong\" in tea_varaites:\n",
    "    print(\"I have Oolong tea\")"
   ]
  },
  {
   "cell_type": "code",
   "execution_count": 49,
   "id": "5ce775b3",
   "metadata": {},
   "outputs": [
    {
     "data": {
      "text/plain": [
       "'Oolong'"
      ]
     },
     "execution_count": 49,
     "metadata": {},
     "output_type": "execute_result"
    }
   ],
   "source": [
    "tea_varaites.pop()   # last value remove in list "
   ]
  },
  {
   "cell_type": "code",
   "execution_count": 67,
   "id": "3ffcbb0c",
   "metadata": {},
   "outputs": [
    {
     "data": {
      "text/plain": [
       "['Black', 'Green', 'Oolong', 'White']"
      ]
     },
     "execution_count": 67,
     "metadata": {},
     "output_type": "execute_result"
    }
   ],
   "source": [
    "tea_varaites=[\"Black\",\"Green\",\"Oolong\",\"White\"]\n",
    "tea_varaites"
   ]
  },
  {
   "cell_type": "code",
   "execution_count": 73,
   "id": "2fc3b292",
   "metadata": {},
   "outputs": [
    {
     "data": {
      "text/plain": [
       "['Black', 'green', 'green', 'Oolong', 'White']"
      ]
     },
     "execution_count": 73,
     "metadata": {},
     "output_type": "execute_result"
    }
   ],
   "source": [
    " \n",
    "tea_varaites.insert(1,\"green\")\n",
    "tea_varaites"
   ]
  },
  {
   "cell_type": "code",
   "execution_count": null,
   "id": "987803f5",
   "metadata": {},
   "outputs": [],
   "source": [
    "tea_varaites_copy=tea_varaites\n"
   ]
  },
  {
   "cell_type": "code",
   "execution_count": 77,
   "id": "e5ddd20f",
   "metadata": {},
   "outputs": [
    {
     "data": {
      "text/plain": [
       "['Black', 'green', 'green', 'Oolong', 'White', 'lemon', 'lemon']"
      ]
     },
     "execution_count": 77,
     "metadata": {},
     "output_type": "execute_result"
    }
   ],
   "source": [
    "tea_varaites_copy.append(\"lemon\")\n",
    "tea_varaites_copy"
   ]
  },
  {
   "cell_type": "code",
   "execution_count": 78,
   "id": "51c12cc3",
   "metadata": {},
   "outputs": [
    {
     "data": {
      "text/plain": [
       "['Black', 'green', 'green', 'Oolong', 'White', 'lemon', 'lemon']"
      ]
     },
     "execution_count": 78,
     "metadata": {},
     "output_type": "execute_result"
    }
   ],
   "source": [
    "tea_varaites"
   ]
  },
  {
   "cell_type": "code",
   "execution_count": 79,
   "id": "f06540cf",
   "metadata": {},
   "outputs": [
    {
     "data": {
      "text/plain": [
       "range(0, 10)"
      ]
     },
     "execution_count": 79,
     "metadata": {},
     "output_type": "execute_result"
    }
   ],
   "source": [
    "range(10)"
   ]
  },
  {
   "cell_type": "code",
   "execution_count": 80,
   "id": "c13df14c",
   "metadata": {},
   "outputs": [
    {
     "name": "stdout",
     "output_type": "stream",
     "text": [
      "range(0, 110)\n"
     ]
    }
   ],
   "source": [
    "print(range(110))"
   ]
  },
  {
   "cell_type": "code",
   "execution_count": 81,
   "id": "badaa447",
   "metadata": {},
   "outputs": [
    {
     "data": {
      "text/plain": [
       "[0, 1, 4, 9, 16, 25, 36, 49, 64, 81]"
      ]
     },
     "execution_count": 82,
     "metadata": {},
     "output_type": "execute_result"
    }
   ],
   "source": [
    "squerd_num=[x**2 for x in range(10)]\n",
    "squerd_num"
   ]
  },
  {
   "cell_type": "code",
   "execution_count": 85,
   "id": "abbd0049",
   "metadata": {},
   "outputs": [
    {
     "data": {
      "text/plain": [
       "[0, 1, 8, 27, 64, 125, 216, 343, 512, 729]"
      ]
     },
     "execution_count": 85,
     "metadata": {},
     "output_type": "execute_result"
    }
   ],
   "source": [
    "cube_num=[x**3 for x in range(10)]\n",
    "cube_num"
   ]
  },
  {
   "cell_type": "markdown",
   "id": "a168cd63",
   "metadata": {},
   "source": [
    " Dictionary in python {Key: value}"
   ]
  },
  {
   "cell_type": "code",
   "execution_count": 94,
   "id": "72008d54",
   "metadata": {},
   "outputs": [
    {
     "data": {
      "text/plain": [
       "{'Masala': 'Spicy', 'Gingger': 'Zesty', 'Green': 'mild'}"
      ]
     },
     "execution_count": 94,
     "metadata": {},
     "output_type": "execute_result"
    }
   ],
   "source": [
    "# Dictionary in python\n",
    "chai_type={\"Masala\":\"Spicy\",\"Gingger\":\"Zesty\",\"Green\":\"mild\"}\n",
    "\n",
    "chai_type"
   ]
  },
  {
   "cell_type": "code",
   "execution_count": 96,
   "id": "395fbf38",
   "metadata": {},
   "outputs": [
    {
     "data": {
      "text/plain": [
       "'Spicy'"
      ]
     },
     "execution_count": 96,
     "metadata": {},
     "output_type": "execute_result"
    }
   ],
   "source": [
    "chai_type[\"Masala\"]"
   ]
  },
  {
   "cell_type": "code",
   "execution_count": 99,
   "id": "102e5180",
   "metadata": {},
   "outputs": [
    {
     "data": {
      "text/plain": [
       "'mild'"
      ]
     },
     "execution_count": 99,
     "metadata": {},
     "output_type": "execute_result"
    }
   ],
   "source": [
    "chai_type.get(\"Green\")"
   ]
  },
  {
   "cell_type": "code",
   "execution_count": 101,
   "id": "3d54ca16",
   "metadata": {},
   "outputs": [
    {
     "data": {
      "text/plain": [
       "{'Masala': 'Spicy', 'Gingger': 'Zesty', 'Green': 'Fresh'}"
      ]
     },
     "execution_count": 101,
     "metadata": {},
     "output_type": "execute_result"
    }
   ],
   "source": [
    "#change for value \n",
    "chai_type[\"Green\"]=\"Fresh\"\n",
    "chai_type"
   ]
  },
  {
   "cell_type": "code",
   "execution_count": 102,
   "id": "15407e49",
   "metadata": {},
   "outputs": [
    {
     "name": "stdout",
     "output_type": "stream",
     "text": [
      "Masala\n",
      "Gingger\n",
      "Green\n"
     ]
    }
   ],
   "source": [
    "#iteration\n",
    "\n",
    "for chai in chai_type:\n",
    "    print(chai)"
   ]
  },
  {
   "cell_type": "code",
   "execution_count": 109,
   "id": "144f9dc6",
   "metadata": {},
   "outputs": [
    {
     "name": "stdout",
     "output_type": "stream",
     "text": [
      "Masala Spicy\n",
      "Gingger Zesty\n",
      "Green Fresh\n"
     ]
    }
   ],
   "source": [
    "for chai in chai_type:\n",
    "    print(chai, chai_type[chai])"
   ]
  },
  {
   "cell_type": "code",
   "execution_count": 110,
   "id": "7df33be3",
   "metadata": {},
   "outputs": [
    {
     "name": "stdout",
     "output_type": "stream",
     "text": [
      "Masala Spicy\n",
      "Gingger Zesty\n",
      "Green Fresh\n"
     ]
    }
   ],
   "source": [
    "for key,value in chai_type.items():\n",
    "    print(key, value)"
   ]
  },
  {
   "cell_type": "code",
   "execution_count": 113,
   "id": "7ec6f6ab",
   "metadata": {},
   "outputs": [],
   "source": [
    "if \"Oolong\" in chai_type:\n",
    "    print(\"I have Oolong chai\")"
   ]
  },
  {
   "cell_type": "code",
   "execution_count": 112,
   "id": "0a1ddb93",
   "metadata": {},
   "outputs": [
    {
     "name": "stdout",
     "output_type": "stream",
     "text": [
      "I have Masala chai\n"
     ]
    }
   ],
   "source": [
    "if \"Masala\" in chai_type:\n",
    "    print(\"I have Masala chai\")"
   ]
  },
  {
   "cell_type": "code",
   "execution_count": 118,
   "id": "6e2e7ea3",
   "metadata": {},
   "outputs": [
    {
     "name": "stdout",
     "output_type": "stream",
     "text": [
      "3\n"
     ]
    }
   ],
   "source": [
    "print(len(chai_type))"
   ]
  },
  {
   "cell_type": "code",
   "execution_count": 126,
   "id": "5ed0f347",
   "metadata": {},
   "outputs": [
    {
     "data": {
      "text/plain": [
       "{'Masala': 'Spicy', 'Green': 'Fresh', 'Amaruttull': 'kadak'}"
      ]
     },
     "execution_count": 126,
     "metadata": {},
     "output_type": "execute_result"
    }
   ],
   "source": [
    "# add this  dict in this piar\n",
    "\n",
    "chai_type[\"Amaruttull\"]=\"kadak\"\n",
    "chai_type"
   ]
  },
  {
   "cell_type": "code",
   "execution_count": 127,
   "id": "87d81c26",
   "metadata": {},
   "outputs": [
    {
     "ename": "KeyError",
     "evalue": "'Gingger'",
     "output_type": "error",
     "traceback": [
      "\u001b[1;31m---------------------------------------------------------------------------\u001b[0m",
      "\u001b[1;31mKeyError\u001b[0m                                  Traceback (most recent call last)",
      "Cell \u001b[1;32mIn[127], line 1\u001b[0m\n\u001b[1;32m----> 1\u001b[0m \u001b[43mchai_type\u001b[49m\u001b[38;5;241;43m.\u001b[39;49m\u001b[43mpop\u001b[49m\u001b[43m(\u001b[49m\u001b[38;5;124;43m\"\u001b[39;49m\u001b[38;5;124;43mGingger\u001b[39;49m\u001b[38;5;124;43m\"\u001b[39;49m\u001b[43m)\u001b[49m\n",
      "\u001b[1;31mKeyError\u001b[0m: 'Gingger'"
     ]
    }
   ],
   "source": [
    "chai_type.pop(\"Gingger\")\n",
    " "
   ]
  },
  {
   "cell_type": "code",
   "execution_count": 124,
   "id": "ede9241f",
   "metadata": {},
   "outputs": [
    {
     "data": {
      "text/plain": [
       "{'Masala': 'Spicy', 'Green': 'Fresh', 'Amaruttull': 'kadak'}"
      ]
     },
     "execution_count": 124,
     "metadata": {},
     "output_type": "execute_result"
    }
   ],
   "source": [
    "chai_type"
   ]
  },
  {
   "cell_type": "code",
   "execution_count": 128,
   "id": "ff9fe0bd",
   "metadata": {},
   "outputs": [
    {
     "data": {
      "text/plain": [
       "('Amaruttull', 'kadak')"
      ]
     },
     "execution_count": 128,
     "metadata": {},
     "output_type": "execute_result"
    }
   ],
   "source": [
    "chai_type.popitem()"
   ]
  },
  {
   "cell_type": "code",
   "execution_count": 129,
   "id": "d49054f4",
   "metadata": {},
   "outputs": [
    {
     "data": {
      "text/plain": [
       "{'Masala': 'Spicy', 'Green': 'Fresh'}"
      ]
     },
     "execution_count": 129,
     "metadata": {},
     "output_type": "execute_result"
    }
   ],
   "source": [
    "chai_type"
   ]
  },
  {
   "cell_type": "code",
   "execution_count": 131,
   "id": "a021a33e",
   "metadata": {},
   "outputs": [],
   "source": [
    "#detlecting  items\n",
    "del chai_type[\"Green\"]"
   ]
  },
  {
   "cell_type": "code",
   "execution_count": 132,
   "id": "896394fe",
   "metadata": {},
   "outputs": [
    {
     "data": {
      "text/plain": [
       "{'Masala': 'Spicy'}"
      ]
     },
     "execution_count": 132,
     "metadata": {},
     "output_type": "execute_result"
    }
   ],
   "source": [
    "chai_type"
   ]
  },
  {
   "cell_type": "code",
   "execution_count": null,
   "id": "af81a382",
   "metadata": {},
   "outputs": [],
   "source": [
    "chai_type_copy=chai_type.copy()    # copy write  "
   ]
  },
  {
   "cell_type": "code",
   "execution_count": 134,
   "id": "8e15bbc6",
   "metadata": {},
   "outputs": [
    {
     "data": {
      "text/plain": [
       "{'Masala': 'Spicy'}"
      ]
     },
     "execution_count": 134,
     "metadata": {},
     "output_type": "execute_result"
    }
   ],
   "source": [
    "chai_type"
   ]
  },
  {
   "cell_type": "code",
   "execution_count": 135,
   "id": "8154b2e8",
   "metadata": {},
   "outputs": [
    {
     "data": {
      "text/plain": [
       "{'Masala': 'Spicy'}"
      ]
     },
     "execution_count": 135,
     "metadata": {},
     "output_type": "execute_result"
    }
   ],
   "source": [
    "chai_type_copy"
   ]
  },
  {
   "cell_type": "code",
   "execution_count": 141,
   "id": "5eea4c25",
   "metadata": {},
   "outputs": [
    {
     "data": {
      "text/plain": [
       "{'Chai': {'Masala': 'spicy', 'Gingger': 'Zersty'},\n",
       " 'Tea': {'Black': 'Strong', 'Green': 'Mild'}}"
      ]
     },
     "execution_count": 141,
     "metadata": {},
     "output_type": "execute_result"
    }
   ],
   "source": [
    "# Dictionary in Dictionary \n",
    "tea_shop= { \n",
    "    \"Chai\":{\"Masala\":\"spicy\" ,\"Gingger\":\"Zersty\"},\n",
    "           \"Tea\":{\"Black\":\"Strong\" ,\"Green\":\"Mild\"} }\n",
    "tea_shop"
   ]
  },
  {
   "cell_type": "code",
   "execution_count": 144,
   "id": "fa11c537",
   "metadata": {},
   "outputs": [
    {
     "data": {
      "text/plain": [
       "'Zersty'"
      ]
     },
     "execution_count": 144,
     "metadata": {},
     "output_type": "execute_result"
    }
   ],
   "source": [
    "tea_shop[\"Chai\"][\"Gingger\"]"
   ]
  },
  {
   "cell_type": "code",
   "execution_count": 147,
   "id": "2effcfd4",
   "metadata": {},
   "outputs": [
    {
     "data": {
      "text/plain": [
       "'Mild'"
      ]
     },
     "execution_count": 147,
     "metadata": {},
     "output_type": "execute_result"
    }
   ],
   "source": [
    "tea_shop[\"Tea\"][\"Green\"]"
   ]
  },
  {
   "cell_type": "code",
   "execution_count": 149,
   "id": "d7b7c8ca",
   "metadata": {},
   "outputs": [
    {
     "data": {
      "text/plain": [
       "{0: 0, 1: 1, 2: 4, 3: 9, 4: 16, 5: 25}"
      ]
     },
     "execution_count": 149,
     "metadata": {},
     "output_type": "execute_result"
    }
   ],
   "source": [
    "squerd_num={x:x**2 for x in range(6)}\n",
    "squerd_num"
   ]
  },
  {
   "cell_type": "code",
   "execution_count": 151,
   "id": "a21b4458",
   "metadata": {},
   "outputs": [
    {
     "data": {
      "text/plain": [
       "{0: 0, 1: 1, 2: 8, 3: 27, 4: 64, 5: 125}"
      ]
     },
     "execution_count": 151,
     "metadata": {},
     "output_type": "execute_result"
    }
   ],
   "source": [
    "cube_num={y:y**3 for y in range(6)}\n",
    "cube_num"
   ]
  },
  {
   "cell_type": "code",
   "execution_count": 152,
   "id": "681a4c41",
   "metadata": {},
   "outputs": [],
   "source": [
    "squerd_num.clear()"
   ]
  },
  {
   "cell_type": "code",
   "execution_count": 153,
   "id": "93f72187",
   "metadata": {},
   "outputs": [
    {
     "data": {
      "text/plain": [
       "{}"
      ]
     },
     "execution_count": 153,
     "metadata": {},
     "output_type": "execute_result"
    }
   ],
   "source": [
    "squerd_num"
   ]
  },
  {
   "cell_type": "code",
   "execution_count": 2,
   "id": "9383e247",
   "metadata": {},
   "outputs": [
    {
     "data": {
      "text/plain": [
       "{'Gingger', 'Green', 'Masala'}"
      ]
     },
     "execution_count": 2,
     "metadata": {},
     "output_type": "execute_result"
    }
   ],
   "source": [
    "keys={\"Masala\",\"Green\",\"Gingger\"}   \n",
    " #   Dictionary  contenct  with key vlues pair\n",
    "keys  "
   ]
  },
  {
   "cell_type": "code",
   "execution_count": 6,
   "id": "23f3fc0b",
   "metadata": {},
   "outputs": [
    {
     "data": {
      "text/plain": [
       "'Delicies'"
      ]
     },
     "execution_count": 6,
     "metadata": {},
     "output_type": "execute_result"
    }
   ],
   "source": [
    "defult_values=\"Delicies\"\n",
    "defult_values"
   ]
  },
  {
   "cell_type": "code",
   "execution_count": 10,
   "id": "66b1629c",
   "metadata": {},
   "outputs": [
    {
     "data": {
      "text/plain": [
       "{'Masala': {'Gingger', 'Green', 'Masala'},\n",
       " 'Gingger': {'Gingger', 'Green', 'Masala'},\n",
       " 'Green': {'Gingger', 'Green', 'Masala'}}"
      ]
     },
     "execution_count": 10,
     "metadata": {},
     "output_type": "execute_result"
    }
   ],
   "source": [
    "new_dict=dict.fromkeys(keys,keys)\n",
    "new_dict"
   ]
  },
  {
   "cell_type": "code",
   "execution_count": 12,
   "id": "25e8e25b",
   "metadata": {},
   "outputs": [
    {
     "data": {
      "text/plain": [
       "{'Masala': 'Delicies', 'Gingger': 'Delicies', 'Green': 'Delicies'}"
      ]
     },
     "execution_count": 12,
     "metadata": {},
     "output_type": "execute_result"
    }
   ],
   "source": [
    "new_dict= dict.fromkeys(keys, defult_values)   ## \n",
    "new_dict"
   ]
  },
  {
   "cell_type": "markdown",
   "id": "b845dae7",
   "metadata": {},
   "source": [
    "# Tuple\n",
    "immutable  "
   ]
  },
  {
   "cell_type": "code",
   "execution_count": 13,
   "id": "c5719904",
   "metadata": {},
   "outputs": [
    {
     "data": {
      "text/plain": [
       "('Black', 'Oolong', 'Green')"
      ]
     },
     "execution_count": 13,
     "metadata": {},
     "output_type": "execute_result"
    }
   ],
   "source": [
    "## tuples\n",
    "chai_types=(\"Black\",\"Oolong\",\"Green\")\n",
    "chai_types"
   ]
  },
  {
   "cell_type": "code",
   "execution_count": 14,
   "id": "c544efd1",
   "metadata": {},
   "outputs": [
    {
     "data": {
      "text/plain": [
       "'Black'"
      ]
     },
     "execution_count": 14,
     "metadata": {},
     "output_type": "execute_result"
    }
   ],
   "source": [
    "chai_types[0]"
   ]
  },
  {
   "cell_type": "code",
   "execution_count": 15,
   "id": "4828e0ec",
   "metadata": {},
   "outputs": [
    {
     "data": {
      "text/plain": [
       "('Oolong', 'Green')"
      ]
     },
     "execution_count": 15,
     "metadata": {},
     "output_type": "execute_result"
    }
   ],
   "source": [
    "chai_types[1:]"
   ]
  },
  {
   "cell_type": "code",
   "execution_count": 16,
   "id": "2c8bbaf3",
   "metadata": {},
   "outputs": [
    {
     "ename": "TypeError",
     "evalue": "'tuple' object does not support item assignment",
     "output_type": "error",
     "traceback": [
      "\u001b[1;31m---------------------------------------------------------------------------\u001b[0m",
      "\u001b[1;31mTypeError\u001b[0m                                 Traceback (most recent call last)",
      "Cell \u001b[1;32mIn[16], line 1\u001b[0m\n\u001b[1;32m----> 1\u001b[0m \u001b[43mchai_types\u001b[49m\u001b[43m[\u001b[49m\u001b[38;5;241;43m0\u001b[39;49m\u001b[43m]\u001b[49m\u001b[38;5;241m=\u001b[39m\u001b[38;5;124m\"\u001b[39m\u001b[38;5;124mLemon\u001b[39m\u001b[38;5;124m\"\u001b[39m\n",
      "\u001b[1;31mTypeError\u001b[0m: 'tuple' object does not support item assignment"
     ]
    }
   ],
   "source": [
    "chai_types[0]=\"Lemon\""
   ]
  },
  {
   "cell_type": "code",
   "execution_count": null,
   "id": "97e924da",
   "metadata": {},
   "outputs": [
    {
     "data": {
      "text/plain": [
       "3"
      ]
     },
     "execution_count": 18,
     "metadata": {},
     "output_type": "execute_result"
    }
   ],
   "source": [
    "len(chai_types)"
   ]
  },
  {
   "cell_type": "code",
   "execution_count": 23,
   "id": "70351f9a",
   "metadata": {},
   "outputs": [
    {
     "data": {
      "text/plain": [
       "('Harbal', 'Earl Gray', 'Gingger')"
      ]
     },
     "execution_count": 23,
     "metadata": {},
     "output_type": "execute_result"
    }
   ],
   "source": [
    "more_tea=(\"Harbal\",\"Earl Gray\",\"Gingger\")\n",
    "more_tea"
   ]
  },
  {
   "cell_type": "code",
   "execution_count": 24,
   "id": "793f8ef2",
   "metadata": {},
   "outputs": [
    {
     "data": {
      "text/plain": [
       "('Harbal', 'Earl Gray', 'Gingger', 'Black', 'Oolong', 'Green')"
      ]
     },
     "execution_count": 24,
     "metadata": {},
     "output_type": "execute_result"
    }
   ],
   "source": [
    "all_tea=more_tea+chai_types\n",
    "all_tea"
   ]
  },
  {
   "cell_type": "code",
   "execution_count": 27,
   "id": "ac4f9560",
   "metadata": {},
   "outputs": [
    {
     "name": "stdout",
     "output_type": "stream",
     "text": [
      " I have green tea\n"
     ]
    }
   ],
   "source": [
    "if \"Green\" in chai_types:\n",
    "    print(\" I have green tea\")"
   ]
  },
  {
   "cell_type": "code",
   "execution_count": 28,
   "id": "c3a5ac34",
   "metadata": {},
   "outputs": [
    {
     "data": {
      "text/plain": [
       "('Harbal', 'Green', 'Harbal', 'Green', 'Green')"
      ]
     },
     "execution_count": 28,
     "metadata": {},
     "output_type": "execute_result"
    }
   ],
   "source": [
    "more_tea=(\"Harbal\",\"Green\",\"Harbal\",\"Green\",\"Green\")\n",
    "more_tea"
   ]
  },
  {
   "cell_type": "code",
   "execution_count": 31,
   "id": "753eb229",
   "metadata": {},
   "outputs": [
    {
     "name": "stdout",
     "output_type": "stream",
     "text": [
      "2\n"
     ]
    }
   ],
   "source": [
    "more_tea.count(\"Green\")\n",
    "print(more_tea.count(\"Harbal\"))"
   ]
  },
  {
   "cell_type": "code",
   "execution_count": 32,
   "id": "be7fb851",
   "metadata": {},
   "outputs": [
    {
     "data": {
      "text/plain": [
       "('Black', 'Oolong', 'Green')"
      ]
     },
     "execution_count": 32,
     "metadata": {},
     "output_type": "execute_result"
    }
   ],
   "source": [
    "chai_types"
   ]
  },
  {
   "cell_type": "code",
   "execution_count": 33,
   "id": "6095151e",
   "metadata": {},
   "outputs": [],
   "source": [
    "(black,green,Oolong)=chai_types\n"
   ]
  },
  {
   "cell_type": "code",
   "execution_count": 34,
   "id": "eb5c982b",
   "metadata": {},
   "outputs": [
    {
     "data": {
      "text/plain": [
       "'Black'"
      ]
     },
     "execution_count": 34,
     "metadata": {},
     "output_type": "execute_result"
    }
   ],
   "source": [
    "black"
   ]
  },
  {
   "cell_type": "code",
   "execution_count": 35,
   "id": "03d02b97",
   "metadata": {},
   "outputs": [
    {
     "data": {
      "text/plain": [
       "tuple"
      ]
     },
     "execution_count": 35,
     "metadata": {},
     "output_type": "execute_result"
    }
   ],
   "source": [
    "type(chai_types)"
   ]
  },
  {
   "cell_type": "code",
   "execution_count": 3,
   "id": "409de9d3",
   "metadata": {},
   "outputs": [
    {
     "data": {
      "text/plain": [
       "'200'"
      ]
     },
     "execution_count": 3,
     "metadata": {},
     "output_type": "execute_result"
    }
   ],
   "source": [
    "userscrore=input(\"Give me a score value:\")\n",
    "userscrore"
   ]
  },
  {
   "cell_type": "code",
   "execution_count": 2,
   "id": "0f48d326",
   "metadata": {},
   "outputs": [
    {
     "ename": "NameError",
     "evalue": "name 'userscrore' is not defined",
     "output_type": "error",
     "traceback": [
      "\u001b[1;31m---------------------------------------------------------------------------\u001b[0m",
      "\u001b[1;31mNameError\u001b[0m                                 Traceback (most recent call last)",
      "Cell \u001b[1;32mIn[2], line 1\u001b[0m\n\u001b[1;32m----> 1\u001b[0m userscrore_in_int\u001b[38;5;241m=\u001b[39m \u001b[38;5;28mint\u001b[39m(\u001b[43muserscrore\u001b[49m)\n\u001b[0;32m      2\u001b[0m userscrore_in_int\n",
      "\u001b[1;31mNameError\u001b[0m: name 'userscrore' is not defined"
     ]
    }
   ],
   "source": [
    "userscrore_in_int= int(userscrore)\n",
    "userscrore_in_int"
   ]
  },
  {
   "cell_type": "code",
   "execution_count": 3,
   "id": "2f5c60a5",
   "metadata": {},
   "outputs": [
    {
     "name": "stdout",
     "output_type": "stream",
     "text": [
      "Your age is: 26 years\n"
     ]
    }
   ],
   "source": [
    "birth_year = int(input(\"Enter your birth year: \"))\n",
    "current_year = 2025\n",
    "\n",
    "age = current_year - birth_year\n",
    "print(\"Your age is:\", age, \"years\")\n"
   ]
  },
  {
   "cell_type": "code",
   "execution_count": 5,
   "id": "54598d80",
   "metadata": {},
   "outputs": [
    {
     "name": "stdout",
     "output_type": "stream",
     "text": [
      "Your age is: 25 years\n"
     ]
    }
   ],
   "source": [
    "from datetime import date\n",
    "\n",
    "# Ask user for date of birth\n",
    "birth_year = int(input(\"Enter birth year: \"))\n",
    "birth_month = int(input(\"Enter birth month: \"))\n",
    "birth_day = int(input(\"Enter birth day: \"))\n",
    "\n",
    "dob = date(birth_year, birth_month, birth_day)\n",
    "today = date.today()\n",
    "\n",
    "# Calculate difference\n",
    "age = today.year - dob.year\n",
    "\n",
    "# Adjust if birthday hasn't happened yet this year\n",
    "if (today.month, today.day) < (dob.month, dob.day):\n",
    "    age -= 1\n",
    "\n",
    "print(\"Your age is:\", age, \"years\")\n"
   ]
  }
 ],
 "metadata": {
  "kernelspec": {
   "display_name": "Python 3",
   "language": "python",
   "name": "python3"
  },
  "language_info": {
   "codemirror_mode": {
    "name": "ipython",
    "version": 3
   },
   "file_extension": ".py",
   "mimetype": "text/x-python",
   "name": "python",
   "nbconvert_exporter": "python",
   "pygments_lexer": "ipython3",
   "version": "3.11.9"
  }
 },
 "nbformat": 4,
 "nbformat_minor": 5
}
